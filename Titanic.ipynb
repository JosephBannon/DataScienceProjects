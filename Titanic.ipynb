{
 "cells": [
  {
   "cell_type": "markdown",
   "id": "15df9050-5070-48d4-90cf-d50b248a6c87",
   "metadata": {},
   "source": [
    "## Author: Joseph Bannon\n",
    "## Date: 8/10/21"
   ]
  },
  {
   "cell_type": "markdown",
   "id": "b02a7f1b-e5d8-4781-b44a-5ac2a6a97f7b",
   "metadata": {},
   "source": [
    "# **<center>Predicting survival of Titantic passengers</center>**"
   ]
  },
  {
   "cell_type": "markdown",
   "id": "be47e8e5-8f53-4d55-8bce-4498070a09ea",
   "metadata": {},
   "source": [
    "# Project overview and business understanding"
   ]
  },
  {
   "cell_type": "markdown",
   "id": "f7e2843b-0c40-40f8-8d8d-e487e29eb02e",
   "metadata": {},
   "source": [
    "The goal of this project is to predict survival of Titantic passengers using data obtained from the website Kaggle. The main evaluation metric in this case will be accuracy because that is what is used for scoring on Kaggle, but other evaluation metrics will be taken into account."
   ]
  },
  {
   "cell_type": "code",
   "execution_count": 1,
   "id": "f986d263-0947-4f5d-8bc1-8f31dd214b45",
   "metadata": {},
   "outputs": [],
   "source": [
    "import numpy as np\n",
    "import matplotlib.pyplot as plt\n",
    "import pandas as pd\n",
    "from IPython.display import display\n",
    "from sklearn.neighbors import KNeighborsClassifier\n",
    "from sklearn.preprocessing import OneHotEncoder\n",
    "from sklearn.model_selection import train_test_split\n",
    "from sklearn.preprocessing import StandardScaler\n",
    "from pandasql import sqldf\n",
    "import seaborn as sns\n",
    "\n",
    "import warnings\n",
    "warnings.filterwarnings(\"ignore\")\n",
    "\n"
   ]
  },
  {
   "cell_type": "markdown",
   "id": "1345dea9-6016-45f6-876d-e75018e05021",
   "metadata": {},
   "source": [
    "# Data Collection "
   ]
  },
  {
   "cell_type": "markdown",
   "id": "19fb9156-675d-49f5-ad31-9dc29eed3214",
   "metadata": {},
   "source": [
    "The data used in this project was provided by the website Kaggle. The data set is origanlly provided as CSV files. These CSV files are imported into Kaggle as pandas dataframes. There are two files are provided, the train.csv file has all of the features and the target for model training. The test.csv file has all the features without the target, for testing on Kaggle."
   ]
  },
  {
   "cell_type": "code",
   "execution_count": 2,
   "id": "112b24c1-bc14-4a18-8802-d12841c8dcd3",
   "metadata": {},
   "outputs": [],
   "source": [
    "train_display = pd.read_csv(\"train.csv\")\n",
    "test_display = pd.read_csv(\"test.csv\")"
   ]
  },
  {
   "cell_type": "code",
   "execution_count": 3,
   "id": "3abf997f-39a7-4dbf-bde7-b4a22a6f41b3",
   "metadata": {},
   "outputs": [
    {
     "data": {
      "text/html": [
       "<div>\n",
       "<style scoped>\n",
       "    .dataframe tbody tr th:only-of-type {\n",
       "        vertical-align: middle;\n",
       "    }\n",
       "\n",
       "    .dataframe tbody tr th {\n",
       "        vertical-align: top;\n",
       "    }\n",
       "\n",
       "    .dataframe thead th {\n",
       "        text-align: right;\n",
       "    }\n",
       "</style>\n",
       "<table border=\"1\" class=\"dataframe\">\n",
       "  <thead>\n",
       "    <tr style=\"text-align: right;\">\n",
       "      <th></th>\n",
       "      <th>PassengerId</th>\n",
       "      <th>Survived</th>\n",
       "      <th>Pclass</th>\n",
       "      <th>Name</th>\n",
       "      <th>Sex</th>\n",
       "      <th>Age</th>\n",
       "      <th>SibSp</th>\n",
       "      <th>Parch</th>\n",
       "      <th>Ticket</th>\n",
       "      <th>Fare</th>\n",
       "      <th>Cabin</th>\n",
       "      <th>Embarked</th>\n",
       "    </tr>\n",
       "  </thead>\n",
       "  <tbody>\n",
       "    <tr>\n",
       "      <th>0</th>\n",
       "      <td>1</td>\n",
       "      <td>0</td>\n",
       "      <td>3</td>\n",
       "      <td>Braund, Mr. Owen Harris</td>\n",
       "      <td>male</td>\n",
       "      <td>22.0</td>\n",
       "      <td>1</td>\n",
       "      <td>0</td>\n",
       "      <td>A/5 21171</td>\n",
       "      <td>7.2500</td>\n",
       "      <td>NaN</td>\n",
       "      <td>S</td>\n",
       "    </tr>\n",
       "    <tr>\n",
       "      <th>1</th>\n",
       "      <td>2</td>\n",
       "      <td>1</td>\n",
       "      <td>1</td>\n",
       "      <td>Cumings, Mrs. John Bradley (Florence Briggs Th...</td>\n",
       "      <td>female</td>\n",
       "      <td>38.0</td>\n",
       "      <td>1</td>\n",
       "      <td>0</td>\n",
       "      <td>PC 17599</td>\n",
       "      <td>71.2833</td>\n",
       "      <td>C85</td>\n",
       "      <td>C</td>\n",
       "    </tr>\n",
       "    <tr>\n",
       "      <th>2</th>\n",
       "      <td>3</td>\n",
       "      <td>1</td>\n",
       "      <td>3</td>\n",
       "      <td>Heikkinen, Miss. Laina</td>\n",
       "      <td>female</td>\n",
       "      <td>26.0</td>\n",
       "      <td>0</td>\n",
       "      <td>0</td>\n",
       "      <td>STON/O2. 3101282</td>\n",
       "      <td>7.9250</td>\n",
       "      <td>NaN</td>\n",
       "      <td>S</td>\n",
       "    </tr>\n",
       "    <tr>\n",
       "      <th>3</th>\n",
       "      <td>4</td>\n",
       "      <td>1</td>\n",
       "      <td>1</td>\n",
       "      <td>Futrelle, Mrs. Jacques Heath (Lily May Peel)</td>\n",
       "      <td>female</td>\n",
       "      <td>35.0</td>\n",
       "      <td>1</td>\n",
       "      <td>0</td>\n",
       "      <td>113803</td>\n",
       "      <td>53.1000</td>\n",
       "      <td>C123</td>\n",
       "      <td>S</td>\n",
       "    </tr>\n",
       "    <tr>\n",
       "      <th>4</th>\n",
       "      <td>5</td>\n",
       "      <td>0</td>\n",
       "      <td>3</td>\n",
       "      <td>Allen, Mr. William Henry</td>\n",
       "      <td>male</td>\n",
       "      <td>35.0</td>\n",
       "      <td>0</td>\n",
       "      <td>0</td>\n",
       "      <td>373450</td>\n",
       "      <td>8.0500</td>\n",
       "      <td>NaN</td>\n",
       "      <td>S</td>\n",
       "    </tr>\n",
       "  </tbody>\n",
       "</table>\n",
       "</div>"
      ],
      "text/plain": [
       "   PassengerId  Survived  Pclass  \\\n",
       "0            1         0       3   \n",
       "1            2         1       1   \n",
       "2            3         1       3   \n",
       "3            4         1       1   \n",
       "4            5         0       3   \n",
       "\n",
       "                                                Name     Sex   Age  SibSp  \\\n",
       "0                            Braund, Mr. Owen Harris    male  22.0      1   \n",
       "1  Cumings, Mrs. John Bradley (Florence Briggs Th...  female  38.0      1   \n",
       "2                             Heikkinen, Miss. Laina  female  26.0      0   \n",
       "3       Futrelle, Mrs. Jacques Heath (Lily May Peel)  female  35.0      1   \n",
       "4                           Allen, Mr. William Henry    male  35.0      0   \n",
       "\n",
       "   Parch            Ticket     Fare Cabin Embarked  \n",
       "0      0         A/5 21171   7.2500   NaN        S  \n",
       "1      0          PC 17599  71.2833   C85        C  \n",
       "2      0  STON/O2. 3101282   7.9250   NaN        S  \n",
       "3      0            113803  53.1000  C123        S  \n",
       "4      0            373450   8.0500   NaN        S  "
      ]
     },
     "execution_count": 3,
     "metadata": {},
     "output_type": "execute_result"
    }
   ],
   "source": [
    "train_display.head()"
   ]
  },
  {
   "cell_type": "markdown",
   "id": "2716309b-2bf2-47bd-b954-a65b3a460b00",
   "metadata": {},
   "source": [
    "### Feature Explanation"
   ]
  },
  {
   "cell_type": "markdown",
   "id": "9fb912c4-95d4-49e3-8a6b-7d1f46a5085d",
   "metadata": {},
   "source": [
    "The column **Survived** is the target, the other columns are all features."
   ]
  },
  {
   "cell_type": "markdown",
   "id": "0e114cba-ee84-4557-bfb9-ff24110d75f8",
   "metadata": {},
   "source": [
    "**This is the explanation of the data provided by Kaggle:**\n",
    "<table>\n",
    "<tr><td>\n",
    "\n",
    "| Variable    | Definition   | Key   |\n",
    "| ----------- | ------------ | ----- |\n",
    "| PassengerId | Unique identifier |       |\n",
    "| Survived    | Survival     |0 = No<br> 1 = Yes |\n",
    "| Pclass      | ticket class |1 = 1st<br> 2 = 2nd<br> 3 = 3rd|\n",
    "| Sex         | Gender       | Male or Female |\n",
    "| Age         | Age in years |       |\n",
    "\n",
    "</td><td>\n",
    "\n",
    "| Variable    | Definition   | Key   |\n",
    "| ----------- | ------------ | ----- |\n",
    "| sibsp       | # of siblings/ <br> spouses| |\n",
    "| parch        | # of parents/ <br> children| |\n",
    "| ticket      | Ticket number | |\n",
    "| fare          | Passenger fare| |\n",
    "| cabin | Cabin number | |\n",
    "| embarked | Port of Embarkation | C = Cherbourg<br> Q = Queenstown<br> S = Southampten|\n",
    "\n",
    "</td></tr> </table>\n"
   ]
  },
  {
   "cell_type": "markdown",
   "id": "125601cb-1aaa-4638-9b62-a475184228f7",
   "metadata": {},
   "source": [
    "**Explanation of specific features**\n",
    "- pclass: A proxy for socio-economic status (SES)\n",
    "    - 1st = Upper\n",
    "    - 2nd = Middle\n",
    "    - 3rd = Lower \n",
    "\n",
    "\n",
    "- age: Age is fractional if less than 1. If the age is estimated, is it in the form of xx.5 \n",
    "\n",
    "\n",
    "- sibsp: The dataset defines family relations in this way...\n",
    "    - Sibling = brother, sister, stepbrother, stepsister\n",
    "    - Spouse = husband, wife (mistresses and fiancés were ignored)\n",
    "\n",
    "\n",
    "- parch: The dataset defines family relations in this way...\n",
    "    - Parent = mother, father\n",
    "    - Child = daughter, son, stepdaughter, stepson\n",
    "    - Some children travelled only with a nanny, therefore parch=0 for them."
   ]
  },
  {
   "cell_type": "markdown",
   "id": "b028f1da-5023-4aa5-b900-aed02e3a7688",
   "metadata": {},
   "source": [
    "### Display vs Modeling "
   ]
  },
  {
   "cell_type": "markdown",
   "id": "6e9bdf3e-e039-4fa9-91f6-68c04aa641db",
   "metadata": {},
   "source": [
    "The target column for the data is **Survived** so it is removed from the **X_model_train**, the column is then given to **y_model_train** for modeling. The display and model dataframes will be modified in different way to achieve the goals of graphing data and creating an accurate model. \n",
    "\n",
    "For practical reasons I ran this code later in the notebook."
   ]
  },
  {
   "cell_type": "code",
   "execution_count": 4,
   "id": "b046e877-6e42-419b-918d-5d57cabe5cac",
   "metadata": {},
   "outputs": [
    {
     "data": {
      "text/plain": [
       "'\\nX_model_train = train_display.drop(columns=[\"Survived\"])\\nX_model_test = test_display\\n\\ny_model_train = train_display[[\"Survived\"]]\\ny_model_train = np.ravel(y_model_train.to_numpy()) \\n'"
      ]
     },
     "execution_count": 4,
     "metadata": {},
     "output_type": "execute_result"
    }
   ],
   "source": [
    "\"\"\"\n",
    "X_model_train = train_display.drop(columns=[\"Survived\"])\n",
    "X_model_test = test_display\n",
    "\n",
    "y_model_train = train_display[[\"Survived\"]]\n",
    "y_model_train = np.ravel(y_model_train.to_numpy()) \n",
    "\"\"\""
   ]
  },
  {
   "cell_type": "markdown",
   "id": "859297bc-0cff-488a-b975-01e99ab12cf6",
   "metadata": {},
   "source": [
    "# Data Preperation"
   ]
  },
  {
   "cell_type": "markdown",
   "id": "c4deb567-dba1-4cdb-b02c-fc5a9f091069",
   "metadata": {},
   "source": [
    "This stage of the project is data preperation. I will be looking at the raw data from the Kaggle data set and be making modifications to the data before further exploration. This includes replacing null values, modifying data to a suitable format and removing irrelevant data features."
   ]
  },
  {
   "cell_type": "code",
   "execution_count": 5,
   "id": "14dbedca-84e4-40de-ad66-7336fa4b8e93",
   "metadata": {},
   "outputs": [
    {
     "data": {
      "text/html": [
       "<div>\n",
       "<style scoped>\n",
       "    .dataframe tbody tr th:only-of-type {\n",
       "        vertical-align: middle;\n",
       "    }\n",
       "\n",
       "    .dataframe tbody tr th {\n",
       "        vertical-align: top;\n",
       "    }\n",
       "\n",
       "    .dataframe thead th {\n",
       "        text-align: right;\n",
       "    }\n",
       "</style>\n",
       "<table border=\"1\" class=\"dataframe\">\n",
       "  <thead>\n",
       "    <tr style=\"text-align: right;\">\n",
       "      <th></th>\n",
       "      <th>PassengerId</th>\n",
       "      <th>Survived</th>\n",
       "      <th>Pclass</th>\n",
       "      <th>Age</th>\n",
       "      <th>SibSp</th>\n",
       "      <th>Parch</th>\n",
       "      <th>Fare</th>\n",
       "    </tr>\n",
       "  </thead>\n",
       "  <tbody>\n",
       "    <tr>\n",
       "      <th>count</th>\n",
       "      <td>891.000000</td>\n",
       "      <td>891.000000</td>\n",
       "      <td>891.000000</td>\n",
       "      <td>714.000000</td>\n",
       "      <td>891.000000</td>\n",
       "      <td>891.000000</td>\n",
       "      <td>891.000000</td>\n",
       "    </tr>\n",
       "    <tr>\n",
       "      <th>mean</th>\n",
       "      <td>446.000000</td>\n",
       "      <td>0.383838</td>\n",
       "      <td>2.308642</td>\n",
       "      <td>29.699118</td>\n",
       "      <td>0.523008</td>\n",
       "      <td>0.381594</td>\n",
       "      <td>32.204208</td>\n",
       "    </tr>\n",
       "    <tr>\n",
       "      <th>std</th>\n",
       "      <td>257.353842</td>\n",
       "      <td>0.486592</td>\n",
       "      <td>0.836071</td>\n",
       "      <td>14.526497</td>\n",
       "      <td>1.102743</td>\n",
       "      <td>0.806057</td>\n",
       "      <td>49.693429</td>\n",
       "    </tr>\n",
       "    <tr>\n",
       "      <th>min</th>\n",
       "      <td>1.000000</td>\n",
       "      <td>0.000000</td>\n",
       "      <td>1.000000</td>\n",
       "      <td>0.420000</td>\n",
       "      <td>0.000000</td>\n",
       "      <td>0.000000</td>\n",
       "      <td>0.000000</td>\n",
       "    </tr>\n",
       "    <tr>\n",
       "      <th>25%</th>\n",
       "      <td>223.500000</td>\n",
       "      <td>0.000000</td>\n",
       "      <td>2.000000</td>\n",
       "      <td>20.125000</td>\n",
       "      <td>0.000000</td>\n",
       "      <td>0.000000</td>\n",
       "      <td>7.910400</td>\n",
       "    </tr>\n",
       "    <tr>\n",
       "      <th>50%</th>\n",
       "      <td>446.000000</td>\n",
       "      <td>0.000000</td>\n",
       "      <td>3.000000</td>\n",
       "      <td>28.000000</td>\n",
       "      <td>0.000000</td>\n",
       "      <td>0.000000</td>\n",
       "      <td>14.454200</td>\n",
       "    </tr>\n",
       "    <tr>\n",
       "      <th>75%</th>\n",
       "      <td>668.500000</td>\n",
       "      <td>1.000000</td>\n",
       "      <td>3.000000</td>\n",
       "      <td>38.000000</td>\n",
       "      <td>1.000000</td>\n",
       "      <td>0.000000</td>\n",
       "      <td>31.000000</td>\n",
       "    </tr>\n",
       "    <tr>\n",
       "      <th>max</th>\n",
       "      <td>891.000000</td>\n",
       "      <td>1.000000</td>\n",
       "      <td>3.000000</td>\n",
       "      <td>80.000000</td>\n",
       "      <td>8.000000</td>\n",
       "      <td>6.000000</td>\n",
       "      <td>512.329200</td>\n",
       "    </tr>\n",
       "  </tbody>\n",
       "</table>\n",
       "</div>"
      ],
      "text/plain": [
       "       PassengerId    Survived      Pclass         Age       SibSp  \\\n",
       "count   891.000000  891.000000  891.000000  714.000000  891.000000   \n",
       "mean    446.000000    0.383838    2.308642   29.699118    0.523008   \n",
       "std     257.353842    0.486592    0.836071   14.526497    1.102743   \n",
       "min       1.000000    0.000000    1.000000    0.420000    0.000000   \n",
       "25%     223.500000    0.000000    2.000000   20.125000    0.000000   \n",
       "50%     446.000000    0.000000    3.000000   28.000000    0.000000   \n",
       "75%     668.500000    1.000000    3.000000   38.000000    1.000000   \n",
       "max     891.000000    1.000000    3.000000   80.000000    8.000000   \n",
       "\n",
       "            Parch        Fare  \n",
       "count  891.000000  891.000000  \n",
       "mean     0.381594   32.204208  \n",
       "std      0.806057   49.693429  \n",
       "min      0.000000    0.000000  \n",
       "25%      0.000000    7.910400  \n",
       "50%      0.000000   14.454200  \n",
       "75%      0.000000   31.000000  \n",
       "max      6.000000  512.329200  "
      ]
     },
     "execution_count": 5,
     "metadata": {},
     "output_type": "execute_result"
    }
   ],
   "source": [
    "train_display.describe()"
   ]
  },
  {
   "cell_type": "code",
   "execution_count": 6,
   "id": "fa2c6415-f4b1-4921-aa24-7b3b69662a95",
   "metadata": {},
   "outputs": [
    {
     "data": {
      "text/plain": [
       "PassengerId      int64\n",
       "Survived         int64\n",
       "Pclass           int64\n",
       "Name            object\n",
       "Sex             object\n",
       "Age            float64\n",
       "SibSp            int64\n",
       "Parch            int64\n",
       "Ticket          object\n",
       "Fare           float64\n",
       "Cabin           object\n",
       "Embarked        object\n",
       "dtype: object"
      ]
     },
     "execution_count": 6,
     "metadata": {},
     "output_type": "execute_result"
    }
   ],
   "source": [
    "train_display.dtypes"
   ]
  },
  {
   "cell_type": "markdown",
   "id": "db2e1e5b-6bc8-44b0-a86a-7a31017f48a3",
   "metadata": {},
   "source": [
    "### Replacing Null values"
   ]
  },
  {
   "cell_type": "code",
   "execution_count": 7,
   "id": "0deee009-182f-4b4e-9e94-3f60dfdea468",
   "metadata": {},
   "outputs": [
    {
     "name": "stdout",
     "output_type": "stream",
     "text": [
      "Titanic Data set total elements: 891\n",
      "Non Zero Null Values List:\n"
     ]
    },
    {
     "data": {
      "text/plain": [
       "Age         177\n",
       "Cabin       687\n",
       "Embarked      2\n",
       "dtype: int64"
      ]
     },
     "execution_count": 7,
     "metadata": {},
     "output_type": "execute_result"
    }
   ],
   "source": [
    "print(\"Titanic Data set total elements:\", len(train_display.index))\n",
    "print(\"Non Zero Null Values List:\")\n",
    "train_display.isnull().sum(axis = 0).loc[train_display.isnull().sum(axis = 0)!=0]"
   ]
  },
  {
   "cell_type": "markdown",
   "id": "8ebfa5a3-458f-4633-a561-c6b9abf680bc",
   "metadata": {},
   "source": [
    "As you can see the only features with null values are **Age**, **Cabin** and **Embarked**. **Embarked** is only missing 2 out of 891  items so the most common element can be used to replace that feature without changing the data set.\n",
    "\n",
    "**Age** and **Cabin** are missing quite a few of entries, so adding in only the mean or most common value will skew the data. For this case, seperate catagories for Nan values are created (Age is *-100*, Cabin is *\"Other\"*)."
   ]
  },
  {
   "cell_type": "code",
   "execution_count": 8,
   "id": "dca5b1ad-7a6c-4150-9273-10d02034f2da",
   "metadata": {},
   "outputs": [],
   "source": [
    "train_display[[\"Cabin\"]] = train_display[[\"Cabin\"]].replace(np.nan,\"Other\")\n",
    "train_display[[\"Age\"]] = train_display[[\"Age\"]].replace(np.nan,-20)\n",
    "train_display[[\"Embarked\"]] = train_display[[\"Embarked\"]].replace(np.nan,\"S\")\n",
    "\n",
    "test_display[[\"Cabin\"]] = test_display[[\"Cabin\"]].replace(np.nan,\"Other\")\n",
    "test_display[[\"Age\"]] = test_display[[\"Age\"]].replace(np.nan,-20)\n",
    "test_display[[\"Embarked\"]] = test_display[[\"Embarked\"]].replace(np.nan,\"S\")"
   ]
  },
  {
   "cell_type": "code",
   "execution_count": 9,
   "id": "f71989e0-69f4-4827-9319-081d9a6c6925",
   "metadata": {},
   "outputs": [
    {
     "name": "stdout",
     "output_type": "stream",
     "text": [
      "Null Values List:\n"
     ]
    },
    {
     "data": {
      "text/plain": [
       "PassengerId    0\n",
       "Survived       0\n",
       "Pclass         0\n",
       "Name           0\n",
       "Sex            0\n",
       "Age            0\n",
       "SibSp          0\n",
       "Parch          0\n",
       "Ticket         0\n",
       "Fare           0\n",
       "Cabin          0\n",
       "Embarked       0\n",
       "dtype: int64"
      ]
     },
     "execution_count": 9,
     "metadata": {},
     "output_type": "execute_result"
    }
   ],
   "source": [
    "print(\"Null Values List:\")\n",
    "train_display.isnull().sum(axis = 0)"
   ]
  },
  {
   "cell_type": "markdown",
   "id": "168ffa94-034d-4aec-af5a-e6251aa9c3bd",
   "metadata": {},
   "source": [
    "Now all there are no NaN vlaues in the data set."
   ]
  },
  {
   "cell_type": "markdown",
   "id": "093eba46-f59f-4abe-8dff-8546d6e71bfd",
   "metadata": {},
   "source": [
    "### Modifying data type"
   ]
  },
  {
   "cell_type": "markdown",
   "id": "f95d078c-593c-4fdd-a1d2-351396939b53",
   "metadata": {},
   "source": [
    "The features **Pclass**,**Parch**, **SibSp** are represent by integers. Inorder to graph the features as catagorical data, this data is then converted to the string data type."
   ]
  },
  {
   "cell_type": "code",
   "execution_count": 10,
   "id": "39f0c352-561c-4a11-84e6-83e7fa22d76b",
   "metadata": {},
   "outputs": [],
   "source": [
    "train_display[[\"Pclass\"]] = train_display[\"Pclass\"].apply(lambda row: str(row))\n",
    "train_display[[\"Parch\"]] = train_display[\"Parch\"].apply(lambda row: str(row))\n",
    "train_display[[\"SibSp\"]] = train_display[\"SibSp\"].apply(lambda row: str(row))\n",
    "\n",
    "test_display[[\"Pclass\"]] = test_display[\"Pclass\"].apply(lambda row: str(row))\n",
    "test_display[[\"Parch\"]] = test_display[\"Parch\"].apply(lambda row: str(row))\n",
    "test_display[[\"SibSp\"]] = test_display[\"SibSp\"].apply(lambda row: str(row))"
   ]
  },
  {
   "cell_type": "code",
   "execution_count": 11,
   "id": "68e7109f-dbfe-4227-8e12-2c44e8ba0e6d",
   "metadata": {},
   "outputs": [
    {
     "data": {
      "text/plain": [
       "Pclass    object\n",
       "SibSp     object\n",
       "Parch     object\n",
       "dtype: object"
      ]
     },
     "execution_count": 11,
     "metadata": {},
     "output_type": "execute_result"
    }
   ],
   "source": [
    "train_display.dtypes.loc[[\"Pclass\",\"SibSp\",\"Parch\"]]"
   ]
  },
  {
   "cell_type": "markdown",
   "id": "85f680fe-6afd-4d8c-a348-5a3da1a3d340",
   "metadata": {},
   "source": [
    "### Modifying data for further exploration"
   ]
  },
  {
   "cell_type": "markdown",
   "id": "66aba3ec-2a03-4d77-9c90-a5ffc63eb72a",
   "metadata": {},
   "source": [
    "The Cabin data set gives the individual room data, but because there are so many different rooms its impossible to learning anything. Inorder to change the data to a form of catagorical data that can be used to train a model, I substring the first letter of each cabin and grouped them together"
   ]
  },
  {
   "cell_type": "code",
   "execution_count": 12,
   "id": "f2072280-40be-4abc-912f-a8f8c47689fe",
   "metadata": {},
   "outputs": [
    {
     "data": {
      "image/png": "[encoded data removed]",
      "text/plain": [
       "<Figure size 1296x360 with 2 Axes>"
      ]
     },
     "metadata": {
      "needs_background": "light"
     },
     "output_type": "display_data"
    }
   ],
   "source": [
    "fig, axes = plt.subplots(1, 2, figsize=(18, 5))\n",
    "cabin_letter = train_display.loc[train_display[\"Cabin\"]!=\"Other\",[\"Cabin\",\"Survived\"]]\n",
    "cabin_letter[\"Cabin\"] = cabin_letter[\"Cabin\"].str.slice(stop=1)\n",
    "graph = cabin_letter.groupby(\"Cabin\").mean()\n",
    "graph.reset_index(inplace=True)\n",
    "\n",
    "graph.sort_values(by=\"Survived\", ascending=False, inplace=True)\n",
    "sns.barplot(ax=axes[0],x=\"Cabin\", y=\"Survived\", data = graph)\n",
    "sns.countplot(ax=axes[1],x=\"Cabin\", data=cabin_letter, order = cabin_letter[\"Cabin\"].value_counts().index)\n",
    "axes[0].set_title(\"Survival rate\")\n",
    "axes[1].set_title(\"Cabin count plot\")\n",
    "\n",
    "\n",
    "train_display[\"Cabin\"] = cabin_letter[\"Cabin\"].replace(np.nan,\"Other\")\n",
    "\n",
    "\n",
    "## for test_display\n",
    "cabin_letter_test = test_display.loc[test_display[\"Cabin\"]!=\"Other\"]\n",
    "cabin_letter_test[\"Cabin\"] = cabin_letter_test[\"Cabin\"].str.slice(stop=1)\n",
    "test_display[\"Cabin\"] = cabin_letter_test[\"Cabin\"].replace(np.nan,\"Other\")\n"
   ]
  },
  {
   "cell_type": "markdown",
   "id": "97cb5f94-9b73-48ef-bf19-d4b355744d9e",
   "metadata": {},
   "source": [
    "The resulting bar graph data shows some differeneces in the survival rate with **Cabins: E, D, B**, having higher surival rates. However, looking at the count plot shows very low counts compared to total rows of data, especailly **Cabins: T, G, A, F**.  **Cabins: C** has the most elements, but still not enough to draw any conclusions. In any case, it seems that **Cabins** doesn't have enough data to be accurate and doesn't show a clear trend. However, more data analysis is required."
   ]
  },
  {
   "cell_type": "markdown",
   "id": "98941509-a1a4-460c-8ff8-92c8d88affda",
   "metadata": {},
   "source": [
    "### Removing irrelevent data"
   ]
  },
  {
   "cell_type": "markdown",
   "id": "b721a059-9bd2-4966-8130-43f6defee117",
   "metadata": {},
   "source": [
    "The features **Name**, **Ticket** are irrelevant to this data set for two reasons. Firstly, they can't be transformed into catagorical variables. Secondly, they intuitively shouldn't have an impact on survival. For these reasons, they are removed from the model."
   ]
  },
  {
   "cell_type": "code",
   "execution_count": 13,
   "id": "2df8833d-8f47-4abf-accb-f8b542d7ac60",
   "metadata": {},
   "outputs": [],
   "source": [
    "train_display.drop(columns=[\"Name\",\"Ticket\"], inplace = True)\n",
    "test_display.drop(columns=[\"Name\",\"Ticket\"], inplace = True)"
   ]
  },
  {
   "cell_type": "markdown",
   "id": "b3d7549c-7e58-4ddf-8296-46becad3b990",
   "metadata": {},
   "source": [
    "# Data Analysis"
   ]
  },
  {
   "cell_type": "markdown",
   "id": "ee6f5622-7a6c-482b-8f23-fcf51fe44f31",
   "metadata": {},
   "source": [
    "This stage of the project is data analysis. I will be using graphs and figures to explore the impact each feature has on survivability. Histograms/co are used to provide counts of the classes within each features. Also, bar charts are used to measure the average survival rates for each class in a feature. Futhermore, multiple features can be graphed in a single chart by using *hue* option in seaborn."
   ]
  },
  {
   "cell_type": "code",
   "execution_count": 14,
   "id": "0753ac0d-2c53-45ba-ad01-1da390c56071",
   "metadata": {},
   "outputs": [
    {
     "data": {
      "text/plain": [
       "[Text(0.5, 0, 'Feature')]"
      ]
     },
     "execution_count": 14,
     "metadata": {},
     "output_type": "execute_result"
    },
    {
     "data": {
      "image/png": "[encoded data removed]",
      "text/plain": [
       "<Figure size 648x360 with 1 Axes>"
      ]
     },
     "metadata": {
      "needs_background": "light"
     },
     "output_type": "display_data"
    }
   ],
   "source": [
    "corr = train_display[[\"Survived\",\"Pclass\",\"Sex\",\"Age\",\"SibSp\",\"Parch\",\"Fare\",\"Cabin\",\"Embarked\"]]\n",
    "for column in corr.columns:\n",
    "    if(column != \"Survived\" and column != \"Age\" and column != \"Fare\"):\n",
    "        corr[[column]] = corr[[column]].astype('category')\n",
    "        corr[[column]] = corr[[column]].apply(lambda x: x.cat.codes)\n",
    "correlation = corr.corr()\n",
    "correlation.reset_index(inplace=True)\n",
    "correlation[[\"Survived\"]] = correlation[[\"Survived\"]].abs()\n",
    "\n",
    "fig, axes = plt.subplots(figsize=(9, 5))\n",
    "\n",
    "a_plot = sns.barplot(ax =axes,x=\"index\", y=\"Survived\", data=correlation.sort_values(by=['Survived']))\n",
    "a_plot.set(ylim=(0, 1))\n",
    "a_plot.set_title(\"Feature correlation with Survived\")\n",
    "a_plot.set(xlabel='Feature')"
   ]
  },
  {
   "cell_type": "markdown",
   "id": "058cd073-1146-4375-9adb-1fbdba9c81f1",
   "metadata": {},
   "source": [
    "Above is a plot of the Pandas correlation matrix of survival with all the features. This is an initial look at the which variables will impact **Survived** the most, **Sex** and **Pclass** having the most weight. However, more analysis is required."
   ]
  },
  {
   "cell_type": "markdown",
   "id": "995fbf39-6bfa-4c45-9467-aadd7e4cf0d2",
   "metadata": {},
   "source": [
    "## Single feature analysis"
   ]
  },
  {
   "cell_type": "code",
   "execution_count": 15,
   "id": "0ad74263-9e15-4adb-a827-38a0b50f2429",
   "metadata": {},
   "outputs": [
    {
     "data": {
      "text/plain": [
       "<AxesSubplot:title={'center':'Cabin'}, xlabel='Cabin', ylabel='count'>"
      ]
     },
     "execution_count": 15,
     "metadata": {},
     "output_type": "execute_result"
    },
    {
     "data": {
      "image/png": "[encoded data removed]",
      "text/plain": [
       "<Figure size 1296x720 with 6 Axes>"
      ]
     },
     "metadata": {
      "needs_background": "light"
     },
     "output_type": "display_data"
    }
   ],
   "source": [
    "fig, axes = plt.subplots(2, 3, figsize=(18, 10))\n",
    "\n",
    "fig.suptitle(\"Feature count plots\")\n",
    "axes[0,0].set_title(\"Pclass\")\n",
    "sns.countplot(ax=axes[0, 0],x=\"Pclass\", data=train_display.sort_values(by=['Pclass']))\n",
    "axes[0,1].set_title(\"Sex\")\n",
    "sns.countplot(ax=axes[0, 1],x=\"Sex\", data=train_display)\n",
    "axes[0,2].set_title(\"SibSp\")\n",
    "sns.countplot(ax=axes[0, 2],x=\"SibSp\", data=train_display.sort_values(by=['SibSp']))\n",
    "axes[1,0].set_title(\"Parch\")\n",
    "sns.countplot(ax=axes[1, 0],x=\"Parch\",  data=train_display.sort_values(by=['Parch']))\n",
    "axes[1,1].set_title(\"Embarked\")\n",
    "sns.countplot(ax=axes[1, 1],x=\"Embarked\", data=train_display)\n",
    "axes[1,2].set_title(\"Cabin\")\n",
    "sns.countplot(ax=axes[1, 2],x=\"Cabin\", data=train_display.loc[train_display[\"Cabin\"]!=\"Other\"])"
   ]
  },
  {
   "cell_type": "code",
   "execution_count": 16,
   "id": "496da6b4-0c4e-4406-ac21-8478ccab980b",
   "metadata": {},
   "outputs": [
    {
     "data": {
      "text/plain": [
       "[(0.0, 1.0)]"
      ]
     },
     "execution_count": 16,
     "metadata": {},
     "output_type": "execute_result"
    },
    {
     "data": {
      "image/png": "[encoded data removed]",
      "text/plain": [
       "<Figure size 1296x720 with 6 Axes>"
      ]
     },
     "metadata": {
      "needs_background": "light"
     },
     "output_type": "display_data"
    }
   ],
   "source": [
    "fig, axes = plt.subplots(2, 3, figsize=(18, 10))\n",
    "\n",
    "fig.suptitle(\"Feature vs Surivability\")\n",
    "\n",
    "axes[0,0].set_title(\"Pclass\")\n",
    "a_plot = sns.barplot(ax=axes[0, 0],x=\"Pclass\", y=\"Survived\", data=train_display.sort_values(by=['Pclass']))\n",
    "a_plot.set(ylim=(0, 1))\n",
    "\n",
    "axes[0,1].set_title(\"Sex\")\n",
    "a_plot = sns.barplot(ax=axes[0, 1],x=\"Sex\", y=\"Survived\", data=train_display)\n",
    "a_plot.set(ylim=(0, 1))\n",
    "\n",
    "axes[0,2].set_title(\"SibSp\")\n",
    "a_plot = sns.barplot(ax=axes[0, 2],x=\"SibSp\", y=\"Survived\", data=train_display.sort_values(by=['SibSp']))\n",
    "a_plot.set(ylim=(0, 1))\n",
    "\n",
    "axes[1,0].set_title(\"Parch\")\n",
    "a_plot = sns.barplot(ax=axes[1, 0],x=\"Parch\", y=\"Survived\", data=train_display.sort_values(by=['Parch']))\n",
    "a_plot.set(ylim=(0, 1))\n",
    "\n",
    "axes[1,1].set_title(\"Embarked\")\n",
    "a_plot = sns.barplot(ax=axes[1, 1],x=\"Embarked\", y=\"Survived\", data=train_display)\n",
    "a_plot.set(ylim=(0, 1))\n",
    "\n",
    "axes[1,1].set_title(\"Survived\")\n",
    "a_plot = sns.barplot(ax=axes[1, 2], x=\"Cabin\",y=\"Survived\", data=train_display.loc[train_display[\"Cabin\"]!=\"Other\"])\n",
    "a_plot.set(ylim=(0, 1))\n"
   ]
  },
  {
   "cell_type": "markdown",
   "id": "244e8f4d-c61c-4766-985a-14695f582ed8",
   "metadata": {},
   "source": [
    "Above are count plots and bar charts of the catagorical features of the data set. Intially it seems that **Pclass** and **Sex** are the features that have the most impact on **Surivial**. Looking at the count plots, these features have high amount of data for all the classes (> 200), supporting the idea the trends are accurate. \n",
    "\n",
    "The **Embarked** feature also shows a trend for surival rates, but the majority of the data is in the *Q* class. **SibSp** and **Parch** have show some differences between classes, but the trends seem to be inclusive and the most of the data is in the *0* class for both."
   ]
  },
  {
   "cell_type": "markdown",
   "id": "ffdd37c7-034a-4f52-8e42-ba7ebbe48294",
   "metadata": {},
   "source": [
    "**Trends for Age**"
   ]
  },
  {
   "cell_type": "code",
   "execution_count": 17,
   "id": "c45ffeda-880d-4a45-a6c3-59e2df207d6a",
   "metadata": {},
   "outputs": [
    {
     "data": {
      "text/plain": [
       "Text(0.5, 1.0, 'Count plot')"
      ]
     },
     "execution_count": 17,
     "metadata": {},
     "output_type": "execute_result"
    },
    {
     "data": {
      "image/png": "[encoded data removed]",
      "text/plain": [
       "<Figure size 1296x360 with 2 Axes>"
      ]
     },
     "metadata": {
      "needs_background": "light"
     },
     "output_type": "display_data"
    }
   ],
   "source": [
    "fig, axes = plt.subplots(1,2,figsize=(18, 5))\n",
    "fig.suptitle(\"Trends For Age\")\n",
    "\n",
    "X_age_binned = train_display.loc[train_display[\"Age\"]<70]\n",
    "\n",
    "X_age_binned[\"Age\"] = X_age_binned[\"Age\"] // 10 * 10\n",
    "\n",
    "a_plot = sns.barplot(ax = axes[0], data=X_age_binned ,x= \"Age\",y= \"Survived\")\n",
    "a_plot.set(ylim=(0, 1))\n",
    "a_plot.set_title(\"Survival rate\")\n",
    "\n",
    "a1_plot = sns.countplot(ax = axes[1], data=X_age_binned, x= \"Age\")\n",
    "a1_plot.set_title(\"Count plot\")\n"
   ]
  },
  {
   "cell_type": "markdown",
   "id": "3cdf23c0-f120-4cd2-b43f-da9ccdf2ae71",
   "metadata": {},
   "source": [
    "The graphs above shows **Age** in bins (0 - 19, 10 - 19, ... ). There seems to be difference in **Survival** rates in ages for group 0-9, but other than that age doesn't seem to have much of an impact. Furthermore, the number of elements in the class 0-9 is relatively small compared to the data set. \n",
    "\n",
    "Another observation is that the NaN values have a slightly lower survival rate compared to the other ages, but not enough to draw a solid conclusion."
   ]
  },
  {
   "cell_type": "markdown",
   "id": "71a7469d-3c17-42a4-a9b8-5668f5dde3f6",
   "metadata": {},
   "source": [
    "**Trends with Fare**"
   ]
  },
  {
   "cell_type": "code",
   "execution_count": 18,
   "id": "9e32ee7a-1285-4c8b-90dc-acd1a987b69d",
   "metadata": {},
   "outputs": [
    {
     "data": {
      "text/plain": [
       "Text(0.5, 1.0, 'Count Plot')"
      ]
     },
     "execution_count": 18,
     "metadata": {},
     "output_type": "execute_result"
    },
    {
     "data": {
      "image/png": "[encoded data removed]",
      "text/plain": [
       "<Figure size 1296x360 with 2 Axes>"
      ]
     },
     "metadata": {
      "needs_background": "light"
     },
     "output_type": "display_data"
    }
   ],
   "source": [
    "fig, axes = plt.subplots(1,2, figsize=(18, 5))\n",
    "fig.suptitle(\"Trends with Fare\")\n",
    "\n",
    "X_fare_binned = train_display.loc[train_display[\"Fare\"]<=250]\n",
    "X_fare_binned[\"Fare\"] = X_fare_binned[\"Fare\"] // 25 * 25\n",
    "a_plot = sns.lineplot(data=X_fare_binned,x= \"Fare\", y= \"Survived\", ax=axes[0],ci = None)\n",
    "a_plot.set(ylim=(0, 1))\n",
    "a_plot.set_title(\"Line Plot\")\n",
    "\n",
    "a1_plot = sns.countplot(data=X_fare_binned,x= \"Fare\", ax=axes[1])\n",
    "a1_plot.set_title(\"Count Plot\")\n"
   ]
  },
  {
   "cell_type": "markdown",
   "id": "5a948450-9fb3-46a1-bf35-50fd0b1ef013",
   "metadata": {},
   "source": [
    "The graphs above shows **Fare** in bins (0 - 24, 25 - 50, ... ) excluding outliers. There seems to be a lose trend upwards trend in **Surival** as **Fare** increases. However, the vast majority of the data is less than 25, so there is difficulty identifying any trends in the higher numbers of fare."
   ]
  },
  {
   "cell_type": "code",
   "execution_count": 19,
   "id": "f677b34d-62d3-40d2-be22-d7b766a73046",
   "metadata": {},
   "outputs": [
    {
     "data": {
      "text/plain": [
       "Text(0.5, 1.0, 'Line plot of Fare less than 150')"
      ]
     },
     "execution_count": 19,
     "metadata": {},
     "output_type": "execute_result"
    },
    {
     "data": {
      "image/png": "[encoded data removed]",
      "text/plain": [
       "<Figure size 1296x360 with 1 Axes>"
      ]
     },
     "metadata": {
      "needs_background": "light"
     },
     "output_type": "display_data"
    }
   ],
   "source": [
    "fig, axes = plt.subplots(figsize=(18, 5))\n",
    "\n",
    "fare_100 = train_display.loc[train_display[\"Fare\"]<150]    \n",
    "fare_100[\"Fare\"] = fare_100[\"Fare\"] // 10 * 10\n",
    "#replace with bins\n",
    "a_plot = sns.lineplot(data=fare_100,x= \"Fare\", y= \"Survived\", ax=axes,ci = None)\n",
    "a_plot.set(ylim=(0, 1))\n",
    "a_plot.set_title(\"Line plot of Fare less than 150\")\n",
    "\n"
   ]
  },
  {
   "cell_type": "markdown",
   "id": "e8d058c9-0351-4cc8-97bd-04514f5a23ea",
   "metadata": {},
   "source": [
    "The graphs above shows **Fare** in bins (0 - 9, 10 - 19, ... ) excluding outliers. Again ther is a lose  trend upwards trend in **Surival** as **Fare** increases."
   ]
  },
  {
   "cell_type": "code",
   "execution_count": 20,
   "id": "c53a6199-17da-4bcc-a8a2-e65e8cb21565",
   "metadata": {},
   "outputs": [
    {
     "data": {
      "text/plain": [
       "Text(0.5, 1.0, 'Count Plot')"
      ]
     },
     "execution_count": 20,
     "metadata": {},
     "output_type": "execute_result"
    },
    {
     "data": {
      "image/png": "[encoded data removed]",
      "text/plain": [
       "<Figure size 1296x360 with 2 Axes>"
      ]
     },
     "metadata": {
      "needs_background": "light"
     },
     "output_type": "display_data"
    }
   ],
   "source": [
    "fig, axes = plt.subplots(1,2, figsize=(18, 5))\n",
    "fig.suptitle(\"Fare binned in groups  0-50 and 51-250\")\n",
    "\n",
    "fare_50 = train_display.loc[train_display[\"Fare\"]<=250]\n",
    "fare_50[\"Fare_binned\"] = fare_50[\"Fare\"] <= 50\n",
    "a_plot = sns.barplot(data=fare_50, order=[True,False],x= \"Fare_binned\", y= \"Survived\", ax=axes[0])\n",
    "a_plot.set(ylim=(0, 1))\n",
    "a_plot.set_xticklabels([\"0-50\",\"51-250\"])\n",
    "a_plot.set_title(\"Survival rate\")\n",
    "\n",
    "a1_plot = sns.countplot(data=fare_50, order=[True,False],x= \"Fare_binned\", ax=axes[1])\n",
    "a1_plot.set_xticklabels([\"0-50\",\"51-250\"])\n",
    "a1_plot.set_title(\"Count Plot\")\n"
   ]
  },
  {
   "cell_type": "markdown",
   "id": "459efe66-165b-4ddb-a32e-1988110bf563",
   "metadata": {},
   "source": [
    "Looking **Fare** binned by greater than 50, less than 50, gives a much clearer picture of the how survivability relates to fare."
   ]
  },
  {
   "cell_type": "markdown",
   "id": "7178ba62-53a8-4bf5-8dd2-bfcb30a23896",
   "metadata": {},
   "source": [
    "### Looking at graphs with two features"
   ]
  },
  {
   "cell_type": "markdown",
   "id": "1468deb3-4ffa-4f4d-b736-8b2aea95ed9b",
   "metadata": {},
   "source": [
    "Previously, features were graphed individually against **Survived** to identify trends. In this section of the data analysis, I will break down each class in a feature by another feature using the *Hue* parameter in seabonr, inorder to obtain a better picture of how each feature **Survived**. The most influential features on **Survived** so far have been **Sex** and **Pclass**, so I will mostly be looking how these features interact with other catagories. "
   ]
  },
  {
   "cell_type": "markdown",
   "id": "253c1676-de35-4c65-a655-22adf4e047c2",
   "metadata": {},
   "source": [
    "**Trends with Pclass**"
   ]
  },
  {
   "cell_type": "code",
   "execution_count": 21,
   "id": "6d9bb2c9-26c9-498e-bb4f-841c34e07b46",
   "metadata": {},
   "outputs": [
    {
     "data": {
      "text/plain": [
       "Text(0.5, 1.0, 'Pclass Survival rate divided by Sex')"
      ]
     },
     "execution_count": 21,
     "metadata": {},
     "output_type": "execute_result"
    },
    {
     "data": {
      "image/png": "[encoded data removed]",
      "text/plain": [
       "<Figure size 432x288 with 1 Axes>"
      ]
     },
     "metadata": {
      "needs_background": "light"
     },
     "output_type": "display_data"
    }
   ],
   "source": [
    "a_plot = sns.barplot(x=\"Pclass\",y=\"Survived\", data=train_display.sort_values(by=['Pclass']), hue=\"Sex\")\n",
    "a_plot.set_title(\"Pclass Survival rate divided by Sex\")"
   ]
  },
  {
   "cell_type": "markdown",
   "id": "2b972768-c3cc-47f7-aa7e-879a52901d38",
   "metadata": {},
   "source": [
    "The first figure shows the **Pclass** feature, split by **Sex**. The trends observed from the graph are similar to trends in **Sex** and **Pclass**, where \"females\" are more likely to survive then \"men\", and \"1st class\" are more likely to survive then \"3rd class\". Intrestingly though, \"2nd class males\" are as likely to survive as \"3rd class males\" but \"2nd class females\" are as likely to survive as \"1st class females\". This interaction of features could prove useful in fine tuning the inputs to a model."
   ]
  },
  {
   "cell_type": "markdown",
   "id": "aae75160-744c-45e6-919b-faba4f587dad",
   "metadata": {},
   "source": [
    "**Looking at trends with Embarked**"
   ]
  },
  {
   "cell_type": "code",
   "execution_count": 22,
   "id": "0651d1e2-4864-40b7-a018-41597082801d",
   "metadata": {},
   "outputs": [
    {
     "data": {
      "text/plain": [
       "Text(0.5, 1.0, 'Embarked divided by Pclass count plot')"
      ]
     },
     "execution_count": 22,
     "metadata": {},
     "output_type": "execute_result"
    },
    {
     "data": {
      "image/png": "[encoded data removed]",
      "text/plain": [
       "<Figure size 1296x432 with 3 Axes>"
      ]
     },
     "metadata": {
      "needs_background": "light"
     },
     "output_type": "display_data"
    }
   ],
   "source": [
    "fig, axes = plt.subplots(1, 3, figsize=(18, 6))\n",
    "fig.suptitle(\"Embarked divided by Sex and Pclass\", size=\"xx-large\")\n",
    "\n",
    "a_plot = sns.barplot(ax=axes[0],x=\"Embarked\",y=\"Survived\", data=train_display.sort_values(by=['Pclass']), hue=\"Pclass\", ci = None)\n",
    "a_plot.set_title(\"Embarked Survival rate divided by Pclass\")\n",
    "\n",
    "a1_plot = sns.barplot(ax=axes[1],x=\"Embarked\",y=\"Survived\", data=train_display, hue=\"Sex\")\n",
    "a1_plot.set_title(\"Embarked Survival rate divided by Sex\")\n",
    "\n",
    "a2_plot = sns.countplot(ax = axes[2],x=\"Embarked\", data=train_display.sort_values(by=\"Pclass\"), hue=\"Pclass\")\n",
    "a2_plot.set_title(\"Embarked divided by Pclass count plot\")\n"
   ]
  },
  {
   "cell_type": "markdown",
   "id": "11bb5aad-250d-46a5-9b83-7d6cc793b042",
   "metadata": {},
   "source": [
    "The first figure shows the **Embarked** feature, split by **Pclass**. The trends observed from the graph is that the vast majority of the influnece on **Survived** comes from the **Pclass** feature. The count plot supports this conclusion as the lowest **Survival rates** have more \"3rd class\" passengers and vis versa. The second figure shows the **Embarked** feature, split by **Sex**. The graph doesn't deviate from the trend, women have a higher survival rate then men."
   ]
  },
  {
   "cell_type": "markdown",
   "id": "cbc78606-46f9-40b7-bd57-7f1e9b7f8428",
   "metadata": {},
   "source": [
    "**Looking at trends with SibSp and Parch**"
   ]
  },
  {
   "cell_type": "code",
   "execution_count": 23,
   "id": "18cb9890-e49d-4d9a-a0b4-49509d1bf3d7",
   "metadata": {},
   "outputs": [
    {
     "data": {
      "text/plain": [
       "<AxesSubplot:title={'center':'SibSp Survival rate divided by Pclass'}, xlabel='SibSp', ylabel='Survived'>"
      ]
     },
     "execution_count": 23,
     "metadata": {},
     "output_type": "execute_result"
    },
    {
     "data": {
      "image/png": "[encoded data removed]",
      "text/plain": [
       "<Figure size 1296x360 with 2 Axes>"
      ]
     },
     "metadata": {
      "needs_background": "light"
     },
     "output_type": "display_data"
    }
   ],
   "source": [
    "order = [\"0\",\"1\",\"2\",\"3\",\"4\",\"5\",\"8\"]\n",
    "\n",
    "fig, axes = plt.subplots(1, 2, figsize=(18, 5))\n",
    "fig.suptitle(\"SibSp Survival rate divided by Sex and Pclass\", size=\"xx-large\")\n",
    "\n",
    "axes[0].set_title(\"SibSp Survival rate divided by Sex\")\n",
    "sns.barplot(ax=axes[0],x=\"SibSp\", y=\"Survived\", hue= \"Sex\", order = order, data=train_display.sort_values(by=\"Sex\"))\n",
    "axes[1].set_title(\"SibSp Survival rate divided by Pclass\")\n",
    "sns.barplot(ax=axes[1],x=\"SibSp\", y=\"Survived\", hue= \"Pclass\", order=order, data=train_display.sort_values(by=\"Pclass\"))"
   ]
  },
  {
   "cell_type": "code",
   "execution_count": 24,
   "id": "4082d2e3-6286-4789-84d2-79692e986ee1",
   "metadata": {},
   "outputs": [
    {
     "data": {
      "text/plain": [
       "<AxesSubplot:title={'center':'Parch Survival rate divided by Pclass'}, xlabel='Parch', ylabel='Survived'>"
      ]
     },
     "execution_count": 24,
     "metadata": {},
     "output_type": "execute_result"
    },
    {
     "data": {
      "image/png": "[encoded data removed]",
      "text/plain": [
       "<Figure size 1296x360 with 2 Axes>"
      ]
     },
     "metadata": {
      "needs_background": "light"
     },
     "output_type": "display_data"
    }
   ],
   "source": [
    "order = [\"0\",\"1\",\"2\",\"3\",\"4\",\"5\",\"6\"]\n",
    "\n",
    "fig, axes = plt.subplots(1, 2, figsize=(18, 5))\n",
    "fig.suptitle(\"Parch Survival rate divided by Sex and Pclass\", size=\"xx-large\")\n",
    "\n",
    "axes[0].set_title(\"Parch Survival rate divided by Sex\")\n",
    "sns.barplot(ax=axes[0],x=\"Parch\", y=\"Survived\", hue= \"Sex\", order = order, data=train_display.sort_values(by=\"Sex\"))\n",
    "axes[1].set_title(\"Parch Survival rate divided by Pclass\")\n",
    "sns.barplot(ax=axes[1],x=\"Parch\", y=\"Survived\", hue= \"Pclass\", order = order, data=train_display.sort_values(by=\"Pclass\"))"
   ]
  },
  {
   "cell_type": "markdown",
   "id": "9ec7da8c-5acb-44b1-b91c-32eb2876f612",
   "metadata": {},
   "source": [
    "The features **Parch** and **SibSp** are each divided by **Sex** and **Pclass** and graphed against **Survival rate**. There doesn't seem to be any visable trends that from the graphs, they follow the general trends with survival rate and **Sex** and **Pclass**. This indicates that the features **Parch** and **SibSp** don't influence **Survived** in a indentifiable way."
   ]
  },
  {
   "cell_type": "markdown",
   "id": "f625a89c-8e06-40f6-85ec-d348d50498e4",
   "metadata": {},
   "source": [
    "**Trends with Age**"
   ]
  },
  {
   "cell_type": "code",
   "execution_count": 25,
   "id": "d1f8df5e-2f68-471f-8b6f-9f2a3f80ba72",
   "metadata": {},
   "outputs": [
    {
     "data": {
      "text/plain": [
       "<AxesSubplot:title={'center':'Age Survival rate divided by Sex'}, xlabel='Age', ylabel='Survived'>"
      ]
     },
     "execution_count": 25,
     "metadata": {},
     "output_type": "execute_result"
    },
    {
     "data": {
      "image/png": "[encoded data removed]",
      "text/plain": [
       "<Figure size 1296x360 with 1 Axes>"
      ]
     },
     "metadata": {
      "needs_background": "light"
     },
     "output_type": "display_data"
    }
   ],
   "source": [
    "fig, axes = plt.subplots(figsize=(18, 5))\n",
    "axes.set_title(\"Age Survival rate divided by Sex\")\n",
    "sns.barplot(data=X_age_binned,x= \"Age\",y= \"Survived\", hue = \"Sex\", ax = axes)"
   ]
  },
  {
   "cell_type": "code",
   "execution_count": 26,
   "id": "ee2119e5-c75c-48a6-a2c2-1537c87504d7",
   "metadata": {},
   "outputs": [
    {
     "data": {
      "text/plain": [
       "<AxesSubplot:title={'center':'Age Survival rate divided by Pclass'}, xlabel='Age', ylabel='Survived'>"
      ]
     },
     "execution_count": 26,
     "metadata": {},
     "output_type": "execute_result"
    },
    {
     "data": {
      "image/png": "[encoded data removed]",
      "text/plain": [
       "<Figure size 1296x360 with 1 Axes>"
      ]
     },
     "metadata": {
      "needs_background": "light"
     },
     "output_type": "display_data"
    }
   ],
   "source": [
    "fig, axes = plt.subplots(figsize=(18, 5))\n",
    "axes.set_title(\"Age Survival rate divided by Pclass\")\n",
    "#a1_plot.set_xticklabels([\"0-50\",\"51-250\"])\n",
    "\n",
    "\n",
    "sns.barplot(data=X_age_binned.sort_values(\"Pclass\"),x= \"Age\",y= \"Survived\", hue = \"Pclass\", ax = axes)"
   ]
  },
  {
   "cell_type": "code",
   "execution_count": 27,
   "id": "6ad3819c-f6e0-42c2-bd00-7caa944014e3",
   "metadata": {},
   "outputs": [
    {
     "data": {
      "text/plain": [
       "<AxesSubplot:title={'center':'Age count plot divided by Pclass'}, xlabel='Age', ylabel='count'>"
      ]
     },
     "execution_count": 27,
     "metadata": {},
     "output_type": "execute_result"
    },
    {
     "data": {
      "image/png": "[encoded data removed]",
      "text/plain": [
       "<Figure size 1296x360 with 1 Axes>"
      ]
     },
     "metadata": {
      "needs_background": "light"
     },
     "output_type": "display_data"
    }
   ],
   "source": [
    "fig, axes = plt.subplots(figsize=(18, 5))\n",
    "axes.set_title(\"Age count plot divided by Pclass\")\n",
    "\n",
    "sns.countplot(data=X_age_binned.sort_values(\"Pclass\"),x= \"Age\", hue = \"Pclass\", ax = axes)"
   ]
  },
  {
   "cell_type": "markdown",
   "id": "4990f439-c134-4d89-9a71-4e91d5dc381b",
   "metadata": {},
   "source": [
    "The figures above show the feature **Age** divided by **Sex** and **Pclass** graphed against **Survival rate**. The first figure follows the trends in **Sex** that \"females\" are more likely to survive then \"males\". However, the age group \"0-9\" seems to not follow this trend and has equal surival rate for both \"females\" and \"males\".\n",
    "\n",
    "A similar pattern can be seen in the second figure. The age groups follow the trend for **Pclass**, expect for the \"0-9\" age group, which **Pclass** doesn't have a noticeable effect on. Although, there isn't enough data in the \"0-9\" to draw a solid conclusion.\n",
    "\n",
    "The third figure supports the idea that small difference obsereved in **Age** are most likely to varying amount of \"3rd class\" passenger. It seems that the only effect of **Age** is due to the **Pclass** and **Sex** variables apart from the \"0-9 age group\"."
   ]
  },
  {
   "cell_type": "markdown",
   "id": "dbb87189-7758-4f4c-a145-d2a3d7b2cd4c",
   "metadata": {},
   "source": [
    "**Trends with fare**"
   ]
  },
  {
   "cell_type": "code",
   "execution_count": 28,
   "id": "b226066b-e794-43d3-a298-6e05048f1b33",
   "metadata": {
    "tags": []
   },
   "outputs": [
    {
     "data": {
      "text/plain": [
       "Text(0.5, 1.0, 'Survival rate divided by Pclass')"
      ]
     },
     "execution_count": 28,
     "metadata": {},
     "output_type": "execute_result"
    },
    {
     "data": {
      "image/png": "[encoded data removed]",
      "text/plain": [
       "<Figure size 1296x360 with 2 Axes>"
      ]
     },
     "metadata": {
      "needs_background": "light"
     },
     "output_type": "display_data"
    }
   ],
   "source": [
    "fig, axes = plt.subplots(1,2,figsize=(18, 5))\n",
    "fig.suptitle(\"Fare groups divided by Sex and Pclass\", size=\"xx-large\")\n",
    "\n",
    "a_plot = sns.barplot(data=fare_50, order=[True,False],x= \"Fare_binned\", y= \"Survived\", hue = \"Sex\", ax=axes[0])\n",
    "a_plot.set(ylim=(0, 1))\n",
    "a_plot.set_xticklabels([\"0-50\",\"51-250\"])\n",
    "a_plot.set_title(\"Survival rate divided by Sex\")\n",
    "\n",
    "fare_50.sort_values(\"Pclass\", inplace=True)\n",
    "a1_plot = sns.barplot(data=fare_50, order=[True,False],x= \"Fare_binned\", y= \"Survived\", hue = \"Pclass\",ax=axes[1])\n",
    "a1_plot.set(ylim=(0, 1))\n",
    "a1_plot.set_xticklabels([\"0-50\",\"51-250\"])\n",
    "a1_plot.set_title(\"Survival rate divided by Pclass\")"
   ]
  },
  {
   "cell_type": "markdown",
   "id": "6bd1bc11-b8aa-4941-b471-02e0e47d0fa1",
   "metadata": {},
   "source": [
    "The figures above show the feature **Fare** is divided by **Sex** and **Pclass**. There doesn't seem to be any visable trends that from the graphs, they follow the general trends with survival rate and **Sex** and **Pclass**. Interestingly, the **Survival rates** for \"1st class\" passengers are lower for \"0-50\"  than \"51-250\" **Fare**. This demonstrates that **Fare** influences **Survival rates** independent of **Pclass**."
   ]
  },
  {
   "cell_type": "markdown",
   "id": "013aef77-f4e7-4eac-bfd1-af1cac317b09",
   "metadata": {},
   "source": [
    "# MODELING"
   ]
  },
  {
   "cell_type": "markdown",
   "id": "4ab79ebf-28af-4831-a517-1d179d7313a2",
   "metadata": {},
   "source": [
    "This stage of the project is Modeling. I used Sklearn classification algorithms to build a model that accurately predicts survival of passengers. Inorder to accomplish this, goal I've tested multiple models, such as logistic regression, decision trees, Support vector machine. I also used grid search to adjust the hyper parameters of each.\n",
    "\n",
    "This section will also build upon the Data Analysis section by representing the data in different ways based on conclusion from the Data Analysis. Examples include using OneHotEncoding for features, treating continous features as catagorical features and using feature selection."
   ]
  },
  {
   "cell_type": "markdown",
   "id": "e6a61da7-6e21-4c67-87c9-2b527cd71b4a",
   "metadata": {},
   "source": [
    "Note: I use the X_model data frames for modeling and testing."
   ]
  },
  {
   "cell_type": "code",
   "execution_count": 29,
   "id": "f4c4afdc-057b-44fe-91a5-484417de9ee2",
   "metadata": {},
   "outputs": [
    {
     "data": {
      "text/html": [
       "<div>\n",
       "<style scoped>\n",
       "    .dataframe tbody tr th:only-of-type {\n",
       "        vertical-align: middle;\n",
       "    }\n",
       "\n",
       "    .dataframe tbody tr th {\n",
       "        vertical-align: top;\n",
       "    }\n",
       "\n",
       "    .dataframe thead th {\n",
       "        text-align: right;\n",
       "    }\n",
       "</style>\n",
       "<table border=\"1\" class=\"dataframe\">\n",
       "  <thead>\n",
       "    <tr style=\"text-align: right;\">\n",
       "      <th></th>\n",
       "      <th>PassengerId</th>\n",
       "      <th>Survived</th>\n",
       "      <th>Pclass</th>\n",
       "      <th>Sex</th>\n",
       "      <th>Age</th>\n",
       "      <th>SibSp</th>\n",
       "      <th>Parch</th>\n",
       "      <th>Fare</th>\n",
       "      <th>Cabin</th>\n",
       "      <th>Embarked</th>\n",
       "    </tr>\n",
       "  </thead>\n",
       "  <tbody>\n",
       "    <tr>\n",
       "      <th>0</th>\n",
       "      <td>1</td>\n",
       "      <td>0</td>\n",
       "      <td>3</td>\n",
       "      <td>male</td>\n",
       "      <td>22.0</td>\n",
       "      <td>1</td>\n",
       "      <td>0</td>\n",
       "      <td>7.2500</td>\n",
       "      <td>NaN</td>\n",
       "      <td>S</td>\n",
       "    </tr>\n",
       "    <tr>\n",
       "      <th>1</th>\n",
       "      <td>2</td>\n",
       "      <td>1</td>\n",
       "      <td>1</td>\n",
       "      <td>female</td>\n",
       "      <td>38.0</td>\n",
       "      <td>1</td>\n",
       "      <td>0</td>\n",
       "      <td>71.2833</td>\n",
       "      <td>C</td>\n",
       "      <td>C</td>\n",
       "    </tr>\n",
       "    <tr>\n",
       "      <th>2</th>\n",
       "      <td>3</td>\n",
       "      <td>1</td>\n",
       "      <td>3</td>\n",
       "      <td>female</td>\n",
       "      <td>26.0</td>\n",
       "      <td>0</td>\n",
       "      <td>0</td>\n",
       "      <td>7.9250</td>\n",
       "      <td>NaN</td>\n",
       "      <td>S</td>\n",
       "    </tr>\n",
       "    <tr>\n",
       "      <th>3</th>\n",
       "      <td>4</td>\n",
       "      <td>1</td>\n",
       "      <td>1</td>\n",
       "      <td>female</td>\n",
       "      <td>35.0</td>\n",
       "      <td>1</td>\n",
       "      <td>0</td>\n",
       "      <td>53.1000</td>\n",
       "      <td>C</td>\n",
       "      <td>S</td>\n",
       "    </tr>\n",
       "    <tr>\n",
       "      <th>4</th>\n",
       "      <td>5</td>\n",
       "      <td>0</td>\n",
       "      <td>3</td>\n",
       "      <td>male</td>\n",
       "      <td>35.0</td>\n",
       "      <td>0</td>\n",
       "      <td>0</td>\n",
       "      <td>8.0500</td>\n",
       "      <td>NaN</td>\n",
       "      <td>S</td>\n",
       "    </tr>\n",
       "    <tr>\n",
       "      <th>...</th>\n",
       "      <td>...</td>\n",
       "      <td>...</td>\n",
       "      <td>...</td>\n",
       "      <td>...</td>\n",
       "      <td>...</td>\n",
       "      <td>...</td>\n",
       "      <td>...</td>\n",
       "      <td>...</td>\n",
       "      <td>...</td>\n",
       "      <td>...</td>\n",
       "    </tr>\n",
       "    <tr>\n",
       "      <th>886</th>\n",
       "      <td>887</td>\n",
       "      <td>0</td>\n",
       "      <td>2</td>\n",
       "      <td>male</td>\n",
       "      <td>27.0</td>\n",
       "      <td>0</td>\n",
       "      <td>0</td>\n",
       "      <td>13.0000</td>\n",
       "      <td>NaN</td>\n",
       "      <td>S</td>\n",
       "    </tr>\n",
       "    <tr>\n",
       "      <th>887</th>\n",
       "      <td>888</td>\n",
       "      <td>1</td>\n",
       "      <td>1</td>\n",
       "      <td>female</td>\n",
       "      <td>19.0</td>\n",
       "      <td>0</td>\n",
       "      <td>0</td>\n",
       "      <td>30.0000</td>\n",
       "      <td>B</td>\n",
       "      <td>S</td>\n",
       "    </tr>\n",
       "    <tr>\n",
       "      <th>888</th>\n",
       "      <td>889</td>\n",
       "      <td>0</td>\n",
       "      <td>3</td>\n",
       "      <td>female</td>\n",
       "      <td>-20.0</td>\n",
       "      <td>1</td>\n",
       "      <td>2</td>\n",
       "      <td>23.4500</td>\n",
       "      <td>NaN</td>\n",
       "      <td>S</td>\n",
       "    </tr>\n",
       "    <tr>\n",
       "      <th>889</th>\n",
       "      <td>890</td>\n",
       "      <td>1</td>\n",
       "      <td>1</td>\n",
       "      <td>male</td>\n",
       "      <td>26.0</td>\n",
       "      <td>0</td>\n",
       "      <td>0</td>\n",
       "      <td>30.0000</td>\n",
       "      <td>C</td>\n",
       "      <td>C</td>\n",
       "    </tr>\n",
       "    <tr>\n",
       "      <th>890</th>\n",
       "      <td>891</td>\n",
       "      <td>0</td>\n",
       "      <td>3</td>\n",
       "      <td>male</td>\n",
       "      <td>32.0</td>\n",
       "      <td>0</td>\n",
       "      <td>0</td>\n",
       "      <td>7.7500</td>\n",
       "      <td>NaN</td>\n",
       "      <td>Q</td>\n",
       "    </tr>\n",
       "  </tbody>\n",
       "</table>\n",
       "<p>891 rows × 10 columns</p>\n",
       "</div>"
      ],
      "text/plain": [
       "     PassengerId  Survived Pclass     Sex   Age SibSp Parch     Fare Cabin  \\\n",
       "0              1         0      3    male  22.0     1     0   7.2500   NaN   \n",
       "1              2         1      1  female  38.0     1     0  71.2833     C   \n",
       "2              3         1      3  female  26.0     0     0   7.9250   NaN   \n",
       "3              4         1      1  female  35.0     1     0  53.1000     C   \n",
       "4              5         0      3    male  35.0     0     0   8.0500   NaN   \n",
       "..           ...       ...    ...     ...   ...   ...   ...      ...   ...   \n",
       "886          887         0      2    male  27.0     0     0  13.0000   NaN   \n",
       "887          888         1      1  female  19.0     0     0  30.0000     B   \n",
       "888          889         0      3  female -20.0     1     2  23.4500   NaN   \n",
       "889          890         1      1    male  26.0     0     0  30.0000     C   \n",
       "890          891         0      3    male  32.0     0     0   7.7500   NaN   \n",
       "\n",
       "    Embarked  \n",
       "0          S  \n",
       "1          C  \n",
       "2          S  \n",
       "3          S  \n",
       "4          S  \n",
       "..       ...  \n",
       "886        S  \n",
       "887        S  \n",
       "888        S  \n",
       "889        C  \n",
       "890        Q  \n",
       "\n",
       "[891 rows x 10 columns]"
      ]
     },
     "metadata": {},
     "output_type": "display_data"
    }
   ],
   "source": [
    "X_model_train = train_display.drop(columns=[\"Survived\",\"PassengerId\"])\n",
    "display(train_display)\n",
    "X_model_test = test_display.drop(columns=[\"PassengerId\"])\n",
    "\n",
    "y_model_train = train_display[[\"Survived\"]]\n",
    "y_model_train = np.ravel(y_model_train.to_numpy())"
   ]
  },
  {
   "cell_type": "markdown",
   "id": "231058a6-55ea-4b87-85fe-8322e21d7118",
   "metadata": {},
   "source": [
    "### Data preprocessing"
   ]
  },
  {
   "cell_type": "markdown",
   "id": "22a50cd9-0e0f-4b0a-92ca-e800444b5923",
   "metadata": {},
   "source": [
    "The data analysis revealed that the age has very little affect on survival rate apart from the \"0-9 age group.\" To limit the overfitting of data, I am transforming age into a catagorical variable of \"0-9 age group\" and not \"0-9 age group.\""
   ]
  },
  {
   "cell_type": "code",
   "execution_count": 30,
   "id": "0784fe17-876f-4553-8d76-32379ee141da",
   "metadata": {},
   "outputs": [],
   "source": [
    "X_model_train[\"Age\"] = X_model_train[\"Age\"].apply(lambda x: x >=0 and x < 9)\n",
    "X_model_test[\"Age\"] = X_model_test[\"Age\"].apply(lambda x: x >=0 and x < 9)"
   ]
  },
  {
   "cell_type": "markdown",
   "id": "f5199cd1-cb77-49a3-bb76-9e148253c689",
   "metadata": {},
   "source": [
    "I will also be using the Standard Scalar on **Fare** in an effort to make the feature have a more noticable effect on **Survived**. The graph bellow shows the results."
   ]
  },
  {
   "cell_type": "code",
   "execution_count": 31,
   "id": "44c44b7a-3c0a-4501-a7dd-de1c8935d892",
   "metadata": {},
   "outputs": [
    {
     "data": {
      "image/png": "[encoded data removed]",
      "text/plain": [
       "<Figure size 432x288 with 1 Axes>"
      ]
     },
     "metadata": {
      "needs_background": "light"
     },
     "output_type": "display_data"
    }
   ],
   "source": [
    "from sklearn.preprocessing import MinMaxScaler\n",
    "scaler = MinMaxScaler()\n",
    "\n",
    "fare_nparr = X_model_train[\"Fare\"].to_numpy().reshape(-1,1)\n",
    "\n",
    "fare_scaled_arr = scaler.fit_transform(fare_nparr) \n",
    "fare_scaled = pd.DataFrame(fare_scaled_arr, columns = ['Fare'])\n",
    "\n",
    "fare_scaled[\"Survived\"] = train_display[\"Survived\"]\n",
    "fare_scaled[\"Fare_binned\"] = round(fare_scaled[\"Fare\"]/.1)*.1\n",
    "a_plot = sns.lineplot(data=fare_scaled,x= \"Fare_binned\", y= \"Survived\",ci = None)\n",
    "a_plot.set_title(\"Fare scaled Surivial rate\")\n",
    "a_plot.set(ylim=(0, 1))\n",
    "\n",
    "\n",
    "X_model_train[\"Fare\"] = fare_scaled[\"Fare\"]\n",
    "\n",
    "fare_nparr_test = X_model_test[\"Fare\"].to_numpy().reshape(-1,1)\n",
    "fare_scaled_arr_test = scaler.transform(fare_nparr_test) \n",
    "fare_scaled_test = pd.DataFrame(fare_scaled_arr_test, columns = ['Fare'])\n",
    "X_model_test[\"Fare\"] = fare_scaled_test[\"Fare\"]"
   ]
  },
  {
   "cell_type": "markdown",
   "id": "22fa2e5b-26b0-4661-ae29-88752235d920",
   "metadata": {},
   "source": [
    "### One Hot Encoding"
   ]
  },
  {
   "cell_type": "code",
   "execution_count": 32,
   "id": "8674479f-27b5-40c9-a35b-63a4fc52ae8d",
   "metadata": {},
   "outputs": [
    {
     "name": "stdout",
     "output_type": "stream",
     "text": [
      " \n"
     ]
    }
   ],
   "source": [
    "# one hot encoding\n",
    "from sklearn.preprocessing import OneHotEncoder\n",
    "\n",
    "Sex_enc = OneHotEncoder(drop='if_binary').fit(X_model_train[\"Sex\"].to_numpy().reshape(-1,1))\n",
    "Sex_column = Sex_enc.transform(X_model_train[\"Sex\"].to_numpy().reshape(-1,1)).toarray()\n",
    "X_model_train = X_model_train.join(pd.DataFrame(Sex_column, columns = ['Sex_enc']))\n",
    "X_model_train.drop(columns = [\"Sex\"])\n",
    "\n",
    "Sex_enc_test = OneHotEncoder(drop='if_binary').fit(X_model_test[\"Sex\"].to_numpy().reshape(-1,1))\n",
    "Sex_column_test = Sex_enc_test.transform(X_model_test[\"Sex\"].to_numpy().reshape(-1,1)).toarray()\n",
    "X_model_test = X_model_test.join(pd.DataFrame(Sex_column_test, columns = ['Sex_enc']))\n",
    "X_model_test.drop(columns = [\"Sex\"])\n",
    "\n",
    "print(\" \")"
   ]
  },
  {
   "cell_type": "code",
   "execution_count": 33,
   "id": "4e0000aa-df8d-4027-ba4e-7afbdb92cca9",
   "metadata": {},
   "outputs": [
    {
     "data": {
      "text/html": [
       "<div>\n",
       "<style scoped>\n",
       "    .dataframe tbody tr th:only-of-type {\n",
       "        vertical-align: middle;\n",
       "    }\n",
       "\n",
       "    .dataframe tbody tr th {\n",
       "        vertical-align: top;\n",
       "    }\n",
       "\n",
       "    .dataframe thead th {\n",
       "        text-align: right;\n",
       "    }\n",
       "</style>\n",
       "<table border=\"1\" class=\"dataframe\">\n",
       "  <thead>\n",
       "    <tr style=\"text-align: right;\">\n",
       "      <th></th>\n",
       "      <th>Age</th>\n",
       "      <th>Fare</th>\n",
       "      <th>Sex_enc</th>\n",
       "      <th>Pclass_1</th>\n",
       "      <th>Pclass_2</th>\n",
       "      <th>Pclass_3</th>\n",
       "      <th>Sex_female</th>\n",
       "      <th>Sex_male</th>\n",
       "      <th>SibSp_0</th>\n",
       "      <th>SibSp_1</th>\n",
       "      <th>...</th>\n",
       "      <th>Cabin_B</th>\n",
       "      <th>Cabin_C</th>\n",
       "      <th>Cabin_D</th>\n",
       "      <th>Cabin_E</th>\n",
       "      <th>Cabin_F</th>\n",
       "      <th>Cabin_G</th>\n",
       "      <th>Cabin_T</th>\n",
       "      <th>Embarked_C</th>\n",
       "      <th>Embarked_Q</th>\n",
       "      <th>Embarked_S</th>\n",
       "    </tr>\n",
       "  </thead>\n",
       "  <tbody>\n",
       "    <tr>\n",
       "      <th>0</th>\n",
       "      <td>False</td>\n",
       "      <td>0.014151</td>\n",
       "      <td>1.0</td>\n",
       "      <td>0</td>\n",
       "      <td>0</td>\n",
       "      <td>1</td>\n",
       "      <td>0</td>\n",
       "      <td>1</td>\n",
       "      <td>0</td>\n",
       "      <td>1</td>\n",
       "      <td>...</td>\n",
       "      <td>0</td>\n",
       "      <td>0</td>\n",
       "      <td>0</td>\n",
       "      <td>0</td>\n",
       "      <td>0</td>\n",
       "      <td>0</td>\n",
       "      <td>0</td>\n",
       "      <td>0</td>\n",
       "      <td>0</td>\n",
       "      <td>1</td>\n",
       "    </tr>\n",
       "    <tr>\n",
       "      <th>1</th>\n",
       "      <td>False</td>\n",
       "      <td>0.139136</td>\n",
       "      <td>0.0</td>\n",
       "      <td>1</td>\n",
       "      <td>0</td>\n",
       "      <td>0</td>\n",
       "      <td>1</td>\n",
       "      <td>0</td>\n",
       "      <td>0</td>\n",
       "      <td>1</td>\n",
       "      <td>...</td>\n",
       "      <td>0</td>\n",
       "      <td>1</td>\n",
       "      <td>0</td>\n",
       "      <td>0</td>\n",
       "      <td>0</td>\n",
       "      <td>0</td>\n",
       "      <td>0</td>\n",
       "      <td>1</td>\n",
       "      <td>0</td>\n",
       "      <td>0</td>\n",
       "    </tr>\n",
       "    <tr>\n",
       "      <th>2</th>\n",
       "      <td>False</td>\n",
       "      <td>0.015469</td>\n",
       "      <td>0.0</td>\n",
       "      <td>0</td>\n",
       "      <td>0</td>\n",
       "      <td>1</td>\n",
       "      <td>1</td>\n",
       "      <td>0</td>\n",
       "      <td>1</td>\n",
       "      <td>0</td>\n",
       "      <td>...</td>\n",
       "      <td>0</td>\n",
       "      <td>0</td>\n",
       "      <td>0</td>\n",
       "      <td>0</td>\n",
       "      <td>0</td>\n",
       "      <td>0</td>\n",
       "      <td>0</td>\n",
       "      <td>0</td>\n",
       "      <td>0</td>\n",
       "      <td>1</td>\n",
       "    </tr>\n",
       "    <tr>\n",
       "      <th>3</th>\n",
       "      <td>False</td>\n",
       "      <td>0.103644</td>\n",
       "      <td>0.0</td>\n",
       "      <td>1</td>\n",
       "      <td>0</td>\n",
       "      <td>0</td>\n",
       "      <td>1</td>\n",
       "      <td>0</td>\n",
       "      <td>0</td>\n",
       "      <td>1</td>\n",
       "      <td>...</td>\n",
       "      <td>0</td>\n",
       "      <td>1</td>\n",
       "      <td>0</td>\n",
       "      <td>0</td>\n",
       "      <td>0</td>\n",
       "      <td>0</td>\n",
       "      <td>0</td>\n",
       "      <td>0</td>\n",
       "      <td>0</td>\n",
       "      <td>1</td>\n",
       "    </tr>\n",
       "    <tr>\n",
       "      <th>4</th>\n",
       "      <td>False</td>\n",
       "      <td>0.015713</td>\n",
       "      <td>1.0</td>\n",
       "      <td>0</td>\n",
       "      <td>0</td>\n",
       "      <td>1</td>\n",
       "      <td>0</td>\n",
       "      <td>1</td>\n",
       "      <td>1</td>\n",
       "      <td>0</td>\n",
       "      <td>...</td>\n",
       "      <td>0</td>\n",
       "      <td>0</td>\n",
       "      <td>0</td>\n",
       "      <td>0</td>\n",
       "      <td>0</td>\n",
       "      <td>0</td>\n",
       "      <td>0</td>\n",
       "      <td>0</td>\n",
       "      <td>0</td>\n",
       "      <td>1</td>\n",
       "    </tr>\n",
       "    <tr>\n",
       "      <th>...</th>\n",
       "      <td>...</td>\n",
       "      <td>...</td>\n",
       "      <td>...</td>\n",
       "      <td>...</td>\n",
       "      <td>...</td>\n",
       "      <td>...</td>\n",
       "      <td>...</td>\n",
       "      <td>...</td>\n",
       "      <td>...</td>\n",
       "      <td>...</td>\n",
       "      <td>...</td>\n",
       "      <td>...</td>\n",
       "      <td>...</td>\n",
       "      <td>...</td>\n",
       "      <td>...</td>\n",
       "      <td>...</td>\n",
       "      <td>...</td>\n",
       "      <td>...</td>\n",
       "      <td>...</td>\n",
       "      <td>...</td>\n",
       "      <td>...</td>\n",
       "    </tr>\n",
       "    <tr>\n",
       "      <th>886</th>\n",
       "      <td>False</td>\n",
       "      <td>0.025374</td>\n",
       "      <td>1.0</td>\n",
       "      <td>0</td>\n",
       "      <td>1</td>\n",
       "      <td>0</td>\n",
       "      <td>0</td>\n",
       "      <td>1</td>\n",
       "      <td>1</td>\n",
       "      <td>0</td>\n",
       "      <td>...</td>\n",
       "      <td>0</td>\n",
       "      <td>0</td>\n",
       "      <td>0</td>\n",
       "      <td>0</td>\n",
       "      <td>0</td>\n",
       "      <td>0</td>\n",
       "      <td>0</td>\n",
       "      <td>0</td>\n",
       "      <td>0</td>\n",
       "      <td>1</td>\n",
       "    </tr>\n",
       "    <tr>\n",
       "      <th>887</th>\n",
       "      <td>False</td>\n",
       "      <td>0.058556</td>\n",
       "      <td>0.0</td>\n",
       "      <td>1</td>\n",
       "      <td>0</td>\n",
       "      <td>0</td>\n",
       "      <td>1</td>\n",
       "      <td>0</td>\n",
       "      <td>1</td>\n",
       "      <td>0</td>\n",
       "      <td>...</td>\n",
       "      <td>1</td>\n",
       "      <td>0</td>\n",
       "      <td>0</td>\n",
       "      <td>0</td>\n",
       "      <td>0</td>\n",
       "      <td>0</td>\n",
       "      <td>0</td>\n",
       "      <td>0</td>\n",
       "      <td>0</td>\n",
       "      <td>1</td>\n",
       "    </tr>\n",
       "    <tr>\n",
       "      <th>888</th>\n",
       "      <td>False</td>\n",
       "      <td>0.045771</td>\n",
       "      <td>0.0</td>\n",
       "      <td>0</td>\n",
       "      <td>0</td>\n",
       "      <td>1</td>\n",
       "      <td>1</td>\n",
       "      <td>0</td>\n",
       "      <td>0</td>\n",
       "      <td>1</td>\n",
       "      <td>...</td>\n",
       "      <td>0</td>\n",
       "      <td>0</td>\n",
       "      <td>0</td>\n",
       "      <td>0</td>\n",
       "      <td>0</td>\n",
       "      <td>0</td>\n",
       "      <td>0</td>\n",
       "      <td>0</td>\n",
       "      <td>0</td>\n",
       "      <td>1</td>\n",
       "    </tr>\n",
       "    <tr>\n",
       "      <th>889</th>\n",
       "      <td>False</td>\n",
       "      <td>0.058556</td>\n",
       "      <td>1.0</td>\n",
       "      <td>1</td>\n",
       "      <td>0</td>\n",
       "      <td>0</td>\n",
       "      <td>0</td>\n",
       "      <td>1</td>\n",
       "      <td>1</td>\n",
       "      <td>0</td>\n",
       "      <td>...</td>\n",
       "      <td>0</td>\n",
       "      <td>1</td>\n",
       "      <td>0</td>\n",
       "      <td>0</td>\n",
       "      <td>0</td>\n",
       "      <td>0</td>\n",
       "      <td>0</td>\n",
       "      <td>1</td>\n",
       "      <td>0</td>\n",
       "      <td>0</td>\n",
       "    </tr>\n",
       "    <tr>\n",
       "      <th>890</th>\n",
       "      <td>False</td>\n",
       "      <td>0.015127</td>\n",
       "      <td>1.0</td>\n",
       "      <td>0</td>\n",
       "      <td>0</td>\n",
       "      <td>1</td>\n",
       "      <td>0</td>\n",
       "      <td>1</td>\n",
       "      <td>1</td>\n",
       "      <td>0</td>\n",
       "      <td>...</td>\n",
       "      <td>0</td>\n",
       "      <td>0</td>\n",
       "      <td>0</td>\n",
       "      <td>0</td>\n",
       "      <td>0</td>\n",
       "      <td>0</td>\n",
       "      <td>0</td>\n",
       "      <td>0</td>\n",
       "      <td>1</td>\n",
       "      <td>0</td>\n",
       "    </tr>\n",
       "  </tbody>\n",
       "</table>\n",
       "<p>891 rows × 33 columns</p>\n",
       "</div>"
      ],
      "text/plain": [
       "       Age      Fare  Sex_enc  Pclass_1  Pclass_2  Pclass_3  Sex_female  \\\n",
       "0    False  0.014151      1.0         0         0         1           0   \n",
       "1    False  0.139136      0.0         1         0         0           1   \n",
       "2    False  0.015469      0.0         0         0         1           1   \n",
       "3    False  0.103644      0.0         1         0         0           1   \n",
       "4    False  0.015713      1.0         0         0         1           0   \n",
       "..     ...       ...      ...       ...       ...       ...         ...   \n",
       "886  False  0.025374      1.0         0         1         0           0   \n",
       "887  False  0.058556      0.0         1         0         0           1   \n",
       "888  False  0.045771      0.0         0         0         1           1   \n",
       "889  False  0.058556      1.0         1         0         0           0   \n",
       "890  False  0.015127      1.0         0         0         1           0   \n",
       "\n",
       "     Sex_male  SibSp_0  SibSp_1  ...  Cabin_B  Cabin_C  Cabin_D  Cabin_E  \\\n",
       "0           1        0        1  ...        0        0        0        0   \n",
       "1           0        0        1  ...        0        1        0        0   \n",
       "2           0        1        0  ...        0        0        0        0   \n",
       "3           0        0        1  ...        0        1        0        0   \n",
       "4           1        1        0  ...        0        0        0        0   \n",
       "..        ...      ...      ...  ...      ...      ...      ...      ...   \n",
       "886         1        1        0  ...        0        0        0        0   \n",
       "887         0        1        0  ...        1        0        0        0   \n",
       "888         0        0        1  ...        0        0        0        0   \n",
       "889         1        1        0  ...        0        1        0        0   \n",
       "890         1        1        0  ...        0        0        0        0   \n",
       "\n",
       "     Cabin_F  Cabin_G  Cabin_T  Embarked_C  Embarked_Q  Embarked_S  \n",
       "0          0        0        0           0           0           1  \n",
       "1          0        0        0           1           0           0  \n",
       "2          0        0        0           0           0           1  \n",
       "3          0        0        0           0           0           1  \n",
       "4          0        0        0           0           0           1  \n",
       "..       ...      ...      ...         ...         ...         ...  \n",
       "886        0        0        0           0           0           1  \n",
       "887        0        0        0           0           0           1  \n",
       "888        0        0        0           0           0           1  \n",
       "889        0        0        0           1           0           0  \n",
       "890        0        0        0           0           1           0  \n",
       "\n",
       "[891 rows x 33 columns]"
      ]
     },
     "metadata": {},
     "output_type": "display_data"
    }
   ],
   "source": [
    "X_model_train = pd.get_dummies(X_model_train)\n",
    "X_model_test = pd.get_dummies(X_model_test)\n",
    "\n",
    "\n",
    "display(X_model_train)"
   ]
  },
  {
   "cell_type": "markdown",
   "id": "429144e3-4c39-4439-9bfd-cc7fd27486ab",
   "metadata": {},
   "source": [
    "# Feature Selection"
   ]
  },
  {
   "cell_type": "markdown",
   "id": "358c087b-26b5-466a-9f6d-65d85057761b",
   "metadata": {},
   "source": [
    "For feature selection, I will be using the Recursive Feature Elimination, which takes every feature in the data set and eliminates the least important features recursively until there are a specified number of features left. This helps eliminate features that aren't relevant to the target and decreases the chances of overfitting.\n",
    "\n",
    "A Random Forest Classifier will be used to determine feature importances. Also, grid search is used to determine hyperparameters and cross validation is used to get a better estimate of the overall accuracy of each model.\n",
    "\n",
    "Note: the random state ensures the features are selected the same each time."
   ]
  },
  {
   "cell_type": "code",
   "execution_count": 34,
   "id": "d68914fa-c282-4fee-b6de-afeb85ba72b1",
   "metadata": {},
   "outputs": [],
   "source": [
    "X_model_test[\"Fare\"] = X_model_test[\"Fare\"].replace(np.nan,X_model_test['Fare'].mean())\n",
    "# bug in the code, one value of fare is NaN in the test data so I replaced it with the mean"
   ]
  },
  {
   "cell_type": "code",
   "execution_count": 35,
   "id": "31c47e26-f912-4318-95f5-3b1106c8e4c4",
   "metadata": {},
   "outputs": [
    {
     "name": "stdout",
     "output_type": "stream",
     "text": [
      "Number of features before in train data 33\n",
      "Number of selected features in train data 30\n",
      "Number of selected features in test data 30\n"
     ]
    }
   ],
   "source": [
    "from sklearn.feature_selection import RFE\n",
    "from sklearn.ensemble import RandomForestClassifier\n",
    "select = RFE(RandomForestClassifier(n_estimators=100, random_state=42),n_features_to_select=15)\n",
    "select.fit(X_model_train, y_model_train)\n",
    "\n",
    "X_model_train_sel = select.transform(X_model_train)\n",
    "X_model_test_sel = select.transform(X_model_test)\n",
    "\n",
    "print(\"Number of features before in train data {}\".format(X_model_train.shape[1]))\n",
    "print(\"Number of selected features in train data {}\".format(X_model_train_sel.shape[1]))\n",
    "print(\"Number of selected features in test data {}\".format(X_model_test_sel.shape[1]))\n"
   ]
  },
  {
   "cell_type": "markdown",
   "id": "a9437d2e-9c3d-45a8-bb88-176f1958b568",
   "metadata": {},
   "source": [
    "### K Neighbor"
   ]
  },
  {
   "cell_type": "code",
   "execution_count": 36,
   "id": "1b546ed6-a4ae-4c49-a4cc-b0fdbc70d706",
   "metadata": {},
   "outputs": [
    {
     "name": "stdout",
     "output_type": "stream",
     "text": [
      "Grid search parameters{'n_neighbors': 10}\n",
      "Grid search best training score: 0.80696\n",
      "Test scores mean: 0.79463\n"
     ]
    }
   ],
   "source": [
    "from sklearn.neighbors import KNeighborsClassifier\n",
    "from sklearn.model_selection import cross_val_score\n",
    "from sklearn.model_selection import GridSearchCV\n",
    "\n",
    "k = [1,2,3,4,5,10,20,30,40,50]\n",
    "param_grid = dict(n_neighbors=k) \n",
    "\n",
    "grid_search_k = GridSearchCV(KNeighborsClassifier(), param_grid, cv=3)\n",
    "\n",
    "grid_search_k.fit(X_model_train,y_model_train)\n",
    "print(\"Grid search parameters{}\".format(grid_search_k.best_params_))\n",
    "print(\"Grid search best training score: {:.5f}\".format(grid_search_k.best_score_))\n",
    "\n",
    "\n",
    "cv_scores_k = cross_val_score(grid_search_k,X_model_train,y_model_train, cv=4)\n",
    "\n",
    "print(\"Test scores mean: {:.5f}\".format(cv_scores_k.mean()))"
   ]
  },
  {
   "cell_type": "markdown",
   "id": "150990bd-6961-4a16-b474-0c63623b83aa",
   "metadata": {},
   "source": [
    "### Logistic Regression"
   ]
  },
  {
   "cell_type": "code",
   "execution_count": 37,
   "id": "8d46e425-5eef-4579-a75c-2b10fa345ee8",
   "metadata": {},
   "outputs": [
    {
     "name": "stdout",
     "output_type": "stream",
     "text": [
      "Grid search parameters{'C': 100, 'penalty': 'l1', 'solver': 'liblinear'}\n",
      "Grid search best training score: 0.80247\n",
      "Test scores mean: 0.80023\n"
     ]
    }
   ],
   "source": [
    "from sklearn.linear_model import LogisticRegression\n",
    "\n",
    "\n",
    "solvers = ['liblinear', 'sag']\n",
    "penalty = ['l1','l2']\n",
    "c_values = [100, 10, 1.0, 0.1, 0.01]\n",
    "param_grid = dict(solver=solvers,penalty=penalty,C=c_values) \n",
    "\n",
    "grid_search_lr = GridSearchCV(LogisticRegression(max_iter=100000), param_grid, cv=3)\n",
    "\n",
    "grid_search_lr.fit(X_model_train,y_model_train)\n",
    "print(\"Grid search parameters{}\".format(grid_search_lr.best_params_))\n",
    "print(\"Grid search best training score: {:.5f}\".format(grid_search_lr.best_score_))\n",
    "\n",
    "cv_scores_lr = cross_val_score(grid_search_lr,X_model_train,y_model_train, cv=4)\n",
    "\n",
    "print(\"Test scores mean: {:.5f}\".format(cv_scores_lr.mean()))\n"
   ]
  },
  {
   "cell_type": "markdown",
   "id": "4a7feeba-92ee-4bcf-a268-821f71f933b5",
   "metadata": {},
   "source": [
    "### Decision Tree"
   ]
  },
  {
   "cell_type": "code",
   "execution_count": 38,
   "id": "5319984a-8592-4f63-a119-2dcb8021d6ae",
   "metadata": {},
   "outputs": [
    {
     "name": "stdout",
     "output_type": "stream",
     "text": [
      "Grid search parameters {'max_depth': 10, 'max_leaf_nodes': 30, 'n_estimators': 100}\n",
      "Grid search best training score: 0.82267\n",
      "Test scores mean: 0.81032\n"
     ]
    }
   ],
   "source": [
    "max_depth = [1,5,10,25]\n",
    "n_estimators = [10,100,250]\n",
    "max_leaf_nodes = [10,25,30,35,50]\n",
    "param_grid = dict(max_depth=max_depth,n_estimators=n_estimators,max_leaf_nodes=max_leaf_nodes) \n",
    "\n",
    "grid_search_tree = GridSearchCV(RandomForestClassifier(), param_grid, cv=3)\n",
    "\n",
    "grid_search_tree.fit(X_model_train,y_model_train)\n",
    "print(\"Grid search parameters {}\".format(grid_search_tree.best_params_))\n",
    "print(\"Grid search best training score: {:.5f}\".format(grid_search_tree.best_score_))\n",
    "\n",
    "cv_scores_tree = cross_val_score(grid_search_tree,X_model_train,y_model_train, cv=4)\n",
    "\n",
    "print(\"Test scores mean: {:.5f}\".format(cv_scores_tree.mean()))"
   ]
  },
  {
   "cell_type": "markdown",
   "id": "0746b0a0-318a-4e73-bf5b-ec086b60004e",
   "metadata": {},
   "source": [
    "### Support Vector Machines"
   ]
  },
  {
   "cell_type": "code",
   "execution_count": 39,
   "id": "038dc52c-ce66-4386-93f5-3779ebf25738",
   "metadata": {},
   "outputs": [
    {
     "name": "stdout",
     "output_type": "stream",
     "text": [
      "Grid search parameters{'C': 1, 'gamma': 0.1, 'kernel': 'rbf'}\n",
      "Grid search best training score: 0.81481\n",
      "Test scores mean: 0.80922\n"
     ]
    }
   ],
   "source": [
    "from sklearn.svm import SVC\n",
    "\n",
    "C =  [0.01, 0.1, 1, 10]\n",
    "gamma =  [0.01, 0.1, 1, 10]\n",
    "kernel = ['rbf','linear']\n",
    "param_grid = dict(C=C,gamma=gamma,kernel=kernel) \n",
    "\n",
    "grid_search_SVC = GridSearchCV(SVC(), param_grid, cv=3)\n",
    "\n",
    "grid_search_SVC.fit(X_model_train,y_model_train)\n",
    "print(\"Grid search parameters{}\".format(grid_search_SVC.best_params_))\n",
    "print(\"Grid search best training score: {:.5f}\".format(grid_search_SVC.best_score_))\n",
    "\n",
    "\n",
    "cv_scores_SVC = cross_val_score(grid_search_SVC,X_model_train,y_model_train, cv=4)\n",
    "\n",
    "print(\"Test scores mean: {:.5f}\".format(cv_scores_SVC.mean()))"
   ]
  },
  {
   "cell_type": "markdown",
   "id": "8b2295b7-68d5-453c-8204-040f06e57a52",
   "metadata": {},
   "source": [
    "# Model Evaluation and deployment"
   ]
  },
  {
   "cell_type": "markdown",
   "id": "ee6da031-fd5a-48c4-a650-c2c20a971b22",
   "metadata": {},
   "source": [
    "This section will compare the preformance of the models using different statistical techniques such as precision, recall and f1_score. I will also compare the models against a \"programmed\" model that chooses \"females survive\" and \"males not surivived\" for every sample. "
   ]
  },
  {
   "cell_type": "markdown",
   "id": "41827e00-46be-47cf-92c8-f3af5f855fac",
   "metadata": {},
   "source": [
    "### Accuracy"
   ]
  },
  {
   "cell_type": "markdown",
   "id": "bc4b84a0-3d62-47cc-a684-1ffa1a36dedb",
   "metadata": {},
   "source": [
    "The accuracy of each of the models is very simillar. This could be due to a number of reasons such as data being mostly noise, accuracy may be a poor statistic to use in this case, or just good preformance of each model. More evaluation metrics are required to chose a model for the final test variables."
   ]
  },
  {
   "cell_type": "markdown",
   "id": "e9a27ac0-5dee-4284-aea5-94e41035e2d6",
   "metadata": {},
   "source": [
    "### Programmed model"
   ]
  },
  {
   "cell_type": "markdown",
   "id": "0e1e5956-b4df-4de8-a1e2-207732b4b43b",
   "metadata": {},
   "source": [
    "The following DecisionTree model was programmed to just predict based on the \"Sex\" feature as can be seen in feature importances. The model performs about as well as the majority of the other, much more complex models. This suggests that besides the **Sex** feature, the majority of the other data is noise and doesn't affect **Survived** in a consitent way."
   ]
  },
  {
   "cell_type": "code",
   "execution_count": 40,
   "id": "b1cdff7f-f233-4736-a358-3e1c03071835",
   "metadata": {
    "tags": []
   },
   "outputs": [
    {
     "name": "stdout",
     "output_type": "stream",
     "text": [
      "Accuracy on training set: 0.78676\n",
      "Feature importances:\n",
      "[0. 0. 0. 0. 0. 0. 0. 1. 0. 0. 0. 0. 0. 0. 0. 0. 0. 0. 0. 0. 0. 0. 0. 0.\n",
      " 0. 0. 0. 0. 0. 0. 0. 0. 0.]\n"
     ]
    }
   ],
   "source": [
    "from sklearn.tree import DecisionTreeClassifier\n",
    "tree = DecisionTreeClassifier(max_depth = 1,random_state=0)\n",
    "tree.fit(X_model_train, y_model_train)\n",
    "programmed_score = tree.score(X_model_train, y_model_train)\n",
    "print(\"Accuracy on training set: {:.5f}\".format(programmed_score))\n",
    "print(\"Feature importances:\\n{}\".format(tree.feature_importances_))"
   ]
  },
  {
   "cell_type": "markdown",
   "id": "e9d42de2-e6a7-4655-a703-1ee99dee3e75",
   "metadata": {},
   "source": [
    "### F1_score"
   ]
  },
  {
   "cell_type": "markdown",
   "id": "b05dec02-b673-464d-8fdb-d24e0c79650c",
   "metadata": {},
   "source": [
    "In this section, I will be looking at precision, recall and F1 score to evaluate the model. Precision and recall measure different statisitics that just accuracy, as they take into account false positives and false negative. F1 score is a means of combining the two numbers into one overall statistic."
   ]
  },
  {
   "cell_type": "code",
   "execution_count": 41,
   "id": "4cc874a6-1ad2-4fc0-aab9-20eb4b07fc0f",
   "metadata": {},
   "outputs": [],
   "source": [
    "from sklearn.metrics import classification_report\n",
    "X_train, X_test, y_train, y_test = train_test_split(X_model_train, y_model_train, test_size=0.3, random_state=0)"
   ]
  },
  {
   "cell_type": "code",
   "execution_count": 43,
   "id": "f768553d-00ba-41ee-acda-751b55764d86",
   "metadata": {},
   "outputs": [
    {
     "name": "stdout",
     "output_type": "stream",
     "text": [
      "F1 score for Support Vector Machine: 0.6925044870028688\n",
      "Percision score for Support Vector Machine: 0.7884094430772035\n",
      "Recall score for Support Vector Machine: 0.6228070175438597\n"
     ]
    }
   ],
   "source": [
    "f1_kn = cross_val_score(grid_search_k,X_model_train,y_model_train, scoring=\"f1\", cv=3)\n",
    "per_kn = cross_val_score(grid_search_k,X_model_train,y_model_train, scoring=\"precision\", cv=3)\n",
    "rec_kn = cross_val_score(grid_search_k,X_model_train,y_model_train, scoring=\"recall\", cv=3)\n",
    "\n",
    "print(\"F1 score for K Neighbor:\", f1_kn.mean())\n",
    "print(\"Percision score for K Neighbor:\", per_kn.mean())\n",
    "print(\"Recall score for K Neighbor:\", rec_kn.mean())\n"
   ]
  },
  {
   "cell_type": "code",
   "execution_count": 44,
   "id": "0759f0bd-7d54-4b14-89ce-7a71469b177f",
   "metadata": {},
   "outputs": [
    {
     "name": "stdout",
     "output_type": "stream",
     "text": [
      "F1 score for Support Vector Machine: 0.720827896047478\n",
      "Percision score for Support Vector Machine: 0.7461776441770603\n",
      "Recall score for Support Vector Machine: 0.6988304093567251\n"
     ]
    }
   ],
   "source": [
    "f1_lr = cross_val_score(grid_search_lr,X_model_train,y_model_train, scoring=\"f1\", cv=3)\n",
    "per_lr = cross_val_score(grid_search_lr,X_model_train,y_model_train, scoring=\"precision\", cv=3)\n",
    "rec_lr = cross_val_score(grid_search_lr,X_model_train,y_model_train, scoring=\"recall\", cv=3)\n",
    "\n",
    "print(\"F1 score for Logistic Regression:\", f1_lr.mean())\n",
    "print(\"Percision score for Logistic Regression:\", per_lr.mean())\n",
    "print(\"Recall score for Logistic Regression:\", rec_lr.mean())"
   ]
  },
  {
   "cell_type": "code",
   "execution_count": 46,
   "id": "4bf962fa-ec8b-4e74-aaae-c50de9c0539d",
   "metadata": {},
   "outputs": [
    {
     "name": "stdout",
     "output_type": "stream",
     "text": [
      "F1 score for Random Forest: 0.7366336621725756\n",
      "Percision score for Random Forest: 0.8123383018862507\n",
      "Recall score for Random Forest: 0.6403508771929824\n",
      "F1 score for Random Forest: 0.6843354632018973\n",
      "Percision score for Random Forest: 0.8043160949231458\n",
      "Recall score for Random Forest: 0.6374269005847953\n"
     ]
    }
   ],
   "source": [
    "f1_tree = cross_val_score(grid_search_tree,X_model_train,y_model_train, scoring=\"f1\", cv=3)\n",
    "per_tree = cross_val_score(grid_search_tree,X_model_train,y_model_train, scoring=\"precision\", cv=3)\n",
    "rec_tree = cross_val_score(grid_search_tree,X_model_train,y_model_train, scoring=\"recall\", cv=3)\n",
    "print(\"F1 score for Random Forest:\", f1_tree.mean())\n",
    "print(\"Percision score for Random Forest:\", per_tree.mean())\n",
    "print(\"Recall score for Random Forest:\", rec_tree.mean())\n"
   ]
  },
  {
   "cell_type": "code",
   "execution_count": 51,
   "id": "2185128b-8b41-454d-9f63-0479d46ff3fe",
   "metadata": {},
   "outputs": [
    {
     "name": "stdout",
     "output_type": "stream",
     "text": [
      "F1 score for Support Vector Machine: 0.7285967657798644\n",
      "Percision score for Support Vector Machine: 0.7692237692237692\n",
      "Recall score for Support Vector Machine: 0.6929824561403509\n"
     ]
    }
   ],
   "source": [
    "f1_SVC = cross_val_score(grid_search_SVC,X_model_train,y_model_train, scoring=\"f1\", cv=3)\n",
    "per_SVC = cross_val_score(grid_search_SVC,X_model_train,y_model_train, scoring=\"precision\", cv=3)\n",
    "rec_SVC = cross_val_score(grid_search_SVC,X_model_train,y_model_train, scoring=\"recall\", cv=3)\n",
    "\n",
    "print(\"F1 score for Support Vector Machine:\", f1_SVC.mean())\n",
    "print(\"Percision score for Support Vector Machine:\", per_SVC.mean())\n",
    "print(\"Recall score for Support Vector Machine:\", rec_SVC.mean())"
   ]
  },
  {
   "cell_type": "code",
   "execution_count": 49,
   "id": "797a862e-9dae-4359-a633-4b5deae08178",
   "metadata": {},
   "outputs": [
    {
     "name": "stdout",
     "output_type": "stream",
     "text": [
      "F1 score for Programmed Model: 0.7097017581322514\n",
      "Percision score for Programmed Model: 0.7419406218144751\n",
      "Recall score for Programmed Model: 0.6812865497076023\n"
     ]
    }
   ],
   "source": [
    "f1_dum = cross_val_score(tree,X_model_train,y_model_train, scoring=\"f1\", cv=3)\n",
    "per_dum = cross_val_score(tree,X_model_train,y_model_train, scoring=\"precision\", cv=3)\n",
    "rec_dum = cross_val_score(tree,X_model_train,y_model_train, scoring=\"recall\", cv=3)\n",
    "\n",
    "print(\"F1 score for Programmed Model:\", f1_dum.mean())\n",
    "print(\"Percision score for Programmed Model:\", per_dum.mean())\n",
    "print(\"Recall score for Programmed Model:\", rec_dum.mean())"
   ]
  },
  {
   "cell_type": "markdown",
   "id": "dbc37d25-0d37-4af3-858e-f2bc576a01c2",
   "metadata": {},
   "source": [
    "To summarize, the F1 score analysis resulted in a more complete picture than accuracy. The Random Forest had the best F1 scores with \".73\" from the cross validation.\n",
    "\n",
    "The Random Forest and Support Vector Machines had simillar accuracy scores and F1 scores, but different values for percision and accuracy. Comparing the precision, the precision for Random Forest was higher than the Support Vector Machines, meaning that the Random Forest had a lower False positive rate. \n",
    "\n",
    "However, the opposite trend occured with recall rates. The Support Vector Machines had a much higher recall than the Random Forest, meaning it had a lower false negative rate than the Random Forest.\n",
    "\n",
    "Compared to the Programmed Model, the more complex models still don't have much better F1 scores indicating that the **Sex** feature is that the models can consitently learn from."
   ]
  },
  {
   "cell_type": "markdown",
   "id": "3e40e150-d492-45d3-ac2b-c022d927d823",
   "metadata": {},
   "source": [
    "### Final Results"
   ]
  },
  {
   "cell_type": "markdown",
   "id": "2e37c830-8849-4773-b34b-993bd4a8628f",
   "metadata": {},
   "source": [
    "The model I am choosing is the Support Vector Machine model because it is both fast and accurate on the data set. The Random Forest Model is also an alternative, but its proccessing times make it less applicable to real world application."
   ]
  },
  {
   "cell_type": "code",
   "execution_count": 53,
   "id": "af576e2a-9289-43c3-abca-5cc7ebf8c008",
   "metadata": {},
   "outputs": [],
   "source": [
    "prediction =  grid_search_SVC.predict(X_model_test)\n",
    "output = pd.DataFrame({'PassengerId': test_display.PassengerId, 'Survived': prediction})\n",
    "output.to_csv('my_submission.csv', index=False)"
   ]
  },
  {
   "cell_type": "markdown",
   "id": "8f66c00a-6e89-4289-a630-aada3c505855",
   "metadata": {},
   "source": [
    "Results of test:  **0.779**"
   ]
  },
  {
   "cell_type": "markdown",
   "id": "d5cb0053-024d-4a7a-be75-c166ad7ab39c",
   "metadata": {},
   "source": [
    "### Further additions"
   ]
  },
  {
   "cell_type": "markdown",
   "id": "dd94787d-3f62-41b1-9b8f-5f0b9b5538cd",
   "metadata": {},
   "source": [
    "To do: add polynomial iteractions of features **Sex** and **Age**, bin **Parch** and **Sibsp** into \"0\" and \"not 0\""
   ]
  },
  {
   "cell_type": "code",
   "execution_count": null,
   "id": "4f3adaa3-64b0-456c-afc6-fdfe99c512e8",
   "metadata": {},
   "outputs": [],
   "source": []
  }
 ],
 "metadata": {
  "kernelspec": {
   "display_name": "Python 3",
   "language": "python",
   "name": "python3"
  },
  "language_info": {
   "codemirror_mode": {
    "name": "ipython",
    "version": 3
   },
   "file_extension": ".py",
   "mimetype": "text/x-python",
   "name": "python",
   "nbconvert_exporter": "python",
   "pygments_lexer": "ipython3",
   "version": "3.8.8"
  }
 },
 "nbformat": 4,
 "nbformat_minor": 5
}
